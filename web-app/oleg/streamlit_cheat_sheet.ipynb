{
 "cells": [
  {
   "cell_type": "markdown",
   "metadata": {},
   "source": [
    "Installation"
   ]
  },
  {
   "cell_type": "code",
   "execution_count": null,
   "metadata": {},
   "outputs": [],
   "source": [
    "$ pip install streamlit"
   ]
  },
  {
   "cell_type": "markdown",
   "metadata": {},
   "source": [
    "Run application"
   ]
  },
  {
   "cell_type": "code",
   "execution_count": null,
   "metadata": {},
   "outputs": [],
   "source": [
    "$ streamlit run [streamlit_script.py]"
   ]
  },
  {
   "cell_type": "markdown",
   "metadata": {},
   "source": [
    "Command line commands for Streamlit"
   ]
  },
  {
   "cell_type": "code",
   "execution_count": null,
   "metadata": {},
   "outputs": [],
   "source": [
    "$ streamlit --help\n",
    "$ streamlit run streamlit_script.py\n",
    "$ streamlit hello\n",
    "$ streamlit config show\n",
    "$ streamlit cache clear\n",
    "$ streamlit docs\n",
    "$ streamlit --version"
   ]
  },
  {
   "cell_type": "markdown",
   "metadata": {},
   "source": [
    "Basics"
   ]
  },
  {
   "cell_type": "code",
   "execution_count": null,
   "metadata": {},
   "outputs": [],
   "source": [
    "import streamlit as st\n",
    "import numpy as np\n",
    "import pandas as pd\n",
    "\n",
    "df = pd.read_csv(\"data.csv\")\n",
    "st.dataframe(df.head())\n",
    "\n",
    "df.add_rows(df2)\n",
    "st.dataframe(df) # df + df2"
   ]
  },
  {
   "cell_type": "markdown",
   "metadata": {},
   "source": [
    "Manage Layout"
   ]
  },
  {
   "cell_type": "markdown",
   "metadata": {},
   "source": [
    "st.set_page_config(\n",
    "    page_title=\"Layout\",\n",
    "    page_icon=\"random\", # st.image / random / emoji (\"🐧\" or \":penguin:\")\n",
    "    layout=\"wide\", # centered\n",
    "    initial_sidebar_state=\"collapsed\", # expanded or auto(default)\n",
    ")\n",
    "menu = st.sidebar.selectbox(\"Menu\",[\"Home\",\"About\"])\n",
    "\n",
    "if menu == \"Home\":\n",
    "    # Columns\n",
    "    col1, col2 = st.columns(2)\n",
    "    with col1:\n",
    "        st.title('Col1')\n",
    "\n",
    "    with col2:\n",
    "        st.title(\"Col2\")   \n",
    "else:\n",
    "    st.write(\"About\")"
   ]
  },
  {
   "cell_type": "markdown",
   "metadata": {},
   "source": [
    "Text"
   ]
  },
  {
   "cell_type": "code",
   "execution_count": null,
   "metadata": {},
   "outputs": [],
   "source": [
    "# Display Text\n",
    "st.title(\"This is a title\")\n",
    "st.header(\"This is a header\")\n",
    "st.subheader(\"This is a subheader\"\n",
    "st.text(\"This is some text.\")\n",
    "st.markdown(\"# This is markdown H1\")\n",
    "st.markdown(\"This is markdown ~~delete~~ *italic* **bold**\")\n",
    "\n",
    "# Status\n",
    "st.success(\"Successful\")\n",
    "st.warning(\"This is danger\")\n",
    "st.info(\"This is information\")\n",
    "st.error(\"This is an error\")\n",
    "st.progress(progress_variable_1_to_100)\n",
    "st.balloons()\n",
    "st.snow()\n",
    "\n",
    "# Superfunction\n",
    "st.write(\"### This is markdown text\")\n",
    "st.write(\"This is normal text\")\n",
    "st.write(1+2)\n",
    "\n",
    "# Code\n",
    "st.code('print(\"My first Streamlit App\")', language='python')\n",
    "st.code('vector %>% as.dataframe()', language='r')\n",
    "\n",
    "# Help Info \n",
    "st.help(print)"
   ]
  },
  {
   "cell_type": "markdown",
   "metadata": {},
   "source": [
    "Text Input"
   ]
  },
  {
   "cell_type": "markdown",
   "metadata": {},
   "source": [
    "# Text Input\n",
    "fname = st.text_input(\"Enter Firstname\")\n",
    "st.write(fname)\n",
    "\n",
    "# Text Input Hide Password\n",
    "password = st.text_input(\"Enter Password\",type='password')\n",
    "st.write(password)\n",
    "\n",
    "# Text Area\n",
    "message = st.text_area(\"Enter Message\",height=100)\n",
    "st.write(message)\n",
    "\n",
    "# Numbers\n",
    "number = st.number_input(\"Enter Number\",1.0,25.0)\n",
    "st.write(number)\n",
    "\n",
    "# Date and Time Input\n",
    "appointment_date = st.date_input(\"Appointment Date\")\n",
    "appointment_time = st.time_input(\"Appointment Time\")\n",
    "\n",
    "# Color Picker\n",
    "my_color = color_picker('Pick a color')\n",
    "\n",
    "# Camera Input\n",
    "photo = camera_input(\"Smile!\")"
   ]
  },
  {
   "cell_type": "markdown",
   "metadata": {},
   "source": [
    "Plot"
   ]
  },
  {
   "cell_type": "code",
   "execution_count": null,
   "metadata": {},
   "outputs": [],
   "source": [
    "df = pd.read_csv(\"data.csv\")\n",
    "df = df.iloc[0:10, ::]\n",
    "st.dataframe(df)\n",
    "\n",
    "# Pie Chart\n",
    "fig = px.pie(df, values='Price',names='Item',\n",
    "             title='Pie Chart of Product')\n",
    "st.plotly_chart(fig)\n",
    "\n",
    "# Bar Chart\n",
    "fig2 = px.bar(df,x='Item',y='Price')\n",
    "st.plotly_chart(fig2)"
   ]
  },
  {
   "cell_type": "markdown",
   "metadata": {},
   "source": [
    "Display Charts"
   ]
  },
  {
   "cell_type": "code",
   "execution_count": null,
   "metadata": {},
   "outputs": [],
   "source": [
    "# Display charts\n",
    "st.line_chart(data)\n",
    "st.area_chart(data)\n",
    "st.bar_chart(data)\n",
    "st.pyplot(fig)\n",
    "st.altair_chart(data)\n",
    "st.vega_lite_chart(data)\n",
    "st.plotly_chart(data)\n",
    "st.bokeh_chart(data)\n",
    "st.pydeck_chart(data)\n",
    "st.deck_gl_chart(data)\n",
    "st.graphviz_chart(data)\n",
    "st.map(data)"
   ]
  },
  {
   "cell_type": "markdown",
   "metadata": {},
   "source": [
    "Widgets"
   ]
  },
  {
   "cell_type": "code",
   "execution_count": null,
   "metadata": {},
   "outputs": [],
   "source": [
    "# Select\n",
    "program_lang = [\"Python\",\"R\",\"Julia\",\"Go\",\"Rust\"]\n",
    "choice = st.selectbox(\"Programming languages\",program_lang)\n",
    "st.write(\"You choose {}\".format(choice))\n",
    "\n",
    "# Multiselect\n",
    "spoken_lang = (\"English\",\"中文\",\"日本語\",\"Español\",\"Français\")\n",
    "my_lang = st.multiselect(\"Language\", spoken_lang, default=\"English\")\n",
    "\n",
    "# Slider\n",
    "age = st.slider(\"Age\", 1, 100)\n",
    "color = st.select_slider(\"Select color\",\n",
    "                         options=[\"Yellow\",\"Red\",\"Blue\",\"Green\",\"Black\",\"White\"],\n",
    "                         value=(\"Yellow\",\"Red\"))\n",
    "\n",
    "# expander\n",
    "with st.expander(\"click to expand\"):\n",
    "    st.write(\"words in the container\") \n",
    "    st.success(\"words in the container\")\n",
    "st.error(\"words outside the container\")\n",
    "\n",
    "# button\n",
    "if st.button('Submit'):\n",
    "    st.success(\"Success!\")\n",
    "else:\n",
    "    st.warning(\"Failed!\")"
   ]
  },
  {
   "cell_type": "markdown",
   "metadata": {},
   "source": [
    "Upload"
   ]
  },
  {
   "cell_type": "code",
   "execution_count": null,
   "metadata": {},
   "outputs": [],
   "source": [
    "# Sidebar\n",
    "uploaded_file = st.sidebar.file_uploader(\"Please upload your csv file.\", type=[\"csv\"])\n",
    "\n",
    "if uploaded_file is not None: \n",
    "    df = pd.read_csv(uploaded_file)\n",
    "else:\n",
    "    df = pd.read_csv('data_demo.csv')\n",
    "\n",
    "# Main page\n",
    "if uploaded_file is not None:\n",
    "    st.write(df)\n",
    "\n",
    "    with st.expander(\"Descriptive Summary\"):\n",
    "    \tst.dataframe(df.describe())\n",
    "\n",
    "else:\n",
    "    st.write('Wait for the uploaded data. This is a demo.')\n",
    "    st.dataframe(df)"
   ]
  },
  {
   "cell_type": "markdown",
   "metadata": {},
   "source": [
    "Download"
   ]
  },
  {
   "cell_type": "code",
   "execution_count": null,
   "metadata": {},
   "outputs": [],
   "source": [
    "df_csv = df.to_csv().encode('utf-8')\n",
    "\n",
    "st.download_button(\n",
    "     label = \"Download csv file\",\n",
    "     data = df_csv,\n",
    "     file_name='download_df.csv',\n",
    "     mime='text/csv',\n",
    " )\n",
    "\n",
    "st.download_button(\n",
    "     label = \"Download txt file\",\n",
    "     data = df_csv,\n",
    "     file_name='download_df.txt',\n",
    "     mime='text/csv',\n",
    " )\n",
    "\n",
    "# Download image\n",
    "from PIL import Image\n",
    "image = Image.open('image.png')\n",
    "st.image(image, caption='A beacutiful image')\n",
    "\n",
    "with open(\"image.png\", \"rb\") as file:\n",
    "     btn = st.download_button(\n",
    "             label=\"Download image\",\n",
    "             data=file,\n",
    "             file_name=\"image.png\",\n",
    "             mime=\"image/png\"\n",
    "           )"
   ]
  }
 ],
 "metadata": {
  "kernelspec": {
   "display_name": "Python 3",
   "language": "python",
   "name": "python3"
  },
  "language_info": {
   "name": "python",
   "version": "3.12.1"
  }
 },
 "nbformat": 4,
 "nbformat_minor": 2
}
