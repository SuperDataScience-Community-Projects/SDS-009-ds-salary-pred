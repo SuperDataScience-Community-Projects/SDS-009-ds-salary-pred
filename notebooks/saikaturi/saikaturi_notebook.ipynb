{
 "cells": [
  {
   "cell_type": "markdown",
   "id": "aff4549a",
   "metadata": {},
   "source": [
    " # Salary Prediction"
   ]
  },
  {
   "cell_type": "markdown",
   "id": "d749a507",
   "metadata": {},
   "source": [
    "### Importing required Libraries"
   ]
  },
  {
   "cell_type": "code",
   "execution_count": 1,
   "id": "6f7db953",
   "metadata": {},
   "outputs": [],
   "source": [
    "import pandas as pd"
   ]
  },
  {
   "cell_type": "code",
   "execution_count": 2,
   "id": "bb808f21",
   "metadata": {},
   "outputs": [],
   "source": [
    "import re"
   ]
  },
  {
   "cell_type": "code",
   "execution_count": 3,
   "id": "44000c36",
   "metadata": {},
   "outputs": [],
   "source": [
    "import matplotlib.pyplot as plt\n",
    "import seaborn as sns"
   ]
  },
  {
   "cell_type": "markdown",
   "id": "976696bf",
   "metadata": {},
   "source": [
    "### Reading data from CSV file in to Pandas DataFrame"
   ]
  },
  {
   "cell_type": "code",
   "execution_count": 4,
   "id": "fcbeb2cc",
   "metadata": {},
   "outputs": [],
   "source": [
    "dataset = pd.read_csv('../../data/salaries.csv')"
   ]
  },
  {
   "cell_type": "code",
   "execution_count": 5,
   "id": "520a38c4",
   "metadata": {},
   "outputs": [
    {
     "data": {
      "text/html": [
       "<div>\n",
       "<style scoped>\n",
       "    .dataframe tbody tr th:only-of-type {\n",
       "        vertical-align: middle;\n",
       "    }\n",
       "\n",
       "    .dataframe tbody tr th {\n",
       "        vertical-align: top;\n",
       "    }\n",
       "\n",
       "    .dataframe thead th {\n",
       "        text-align: right;\n",
       "    }\n",
       "</style>\n",
       "<table border=\"1\" class=\"dataframe\">\n",
       "  <thead>\n",
       "    <tr style=\"text-align: right;\">\n",
       "      <th></th>\n",
       "      <th>Company</th>\n",
       "      <th>Company Score</th>\n",
       "      <th>Job Title</th>\n",
       "      <th>Location</th>\n",
       "      <th>Date</th>\n",
       "      <th>Salary</th>\n",
       "    </tr>\n",
       "  </thead>\n",
       "  <tbody>\n",
       "    <tr>\n",
       "      <th>0</th>\n",
       "      <td>ViewSoft</td>\n",
       "      <td>4.8</td>\n",
       "      <td>Software Engineer</td>\n",
       "      <td>Manassas, VA</td>\n",
       "      <td>8d</td>\n",
       "      <td>$68K - $94K (Glassdoor est.)</td>\n",
       "    </tr>\n",
       "    <tr>\n",
       "      <th>1</th>\n",
       "      <td>Workiva</td>\n",
       "      <td>4.3</td>\n",
       "      <td>Software Support Engineer</td>\n",
       "      <td>Remote</td>\n",
       "      <td>2d</td>\n",
       "      <td>$61K - $104K (Employer est.)</td>\n",
       "    </tr>\n",
       "    <tr>\n",
       "      <th>2</th>\n",
       "      <td>Garmin International, Inc.</td>\n",
       "      <td>3.9</td>\n",
       "      <td>C# Software Engineer</td>\n",
       "      <td>Cary, NC</td>\n",
       "      <td>2d</td>\n",
       "      <td>$95K - $118K (Glassdoor est.)</td>\n",
       "    </tr>\n",
       "    <tr>\n",
       "      <th>3</th>\n",
       "      <td>Snapchat</td>\n",
       "      <td>3.5</td>\n",
       "      <td>Software Engineer, Fullstack, 1+ Years of Expe...</td>\n",
       "      <td>Los Angeles, CA</td>\n",
       "      <td>2d</td>\n",
       "      <td>$97K - $145K (Employer est.)</td>\n",
       "    </tr>\n",
       "    <tr>\n",
       "      <th>4</th>\n",
       "      <td>Vitesco Technologies Group AG</td>\n",
       "      <td>3.1</td>\n",
       "      <td>Software Engineer</td>\n",
       "      <td>Seguin, TX</td>\n",
       "      <td>2d</td>\n",
       "      <td>$85K - $108K (Glassdoor est.)</td>\n",
       "    </tr>\n",
       "  </tbody>\n",
       "</table>\n",
       "</div>"
      ],
      "text/plain": [
       "                         Company  Company Score  \\\n",
       "0                       ViewSoft            4.8   \n",
       "1                        Workiva            4.3   \n",
       "2     Garmin International, Inc.            3.9   \n",
       "3                       Snapchat            3.5   \n",
       "4  Vitesco Technologies Group AG            3.1   \n",
       "\n",
       "                                           Job Title         Location Date  \\\n",
       "0                                  Software Engineer     Manassas, VA   8d   \n",
       "1                          Software Support Engineer           Remote   2d   \n",
       "2                               C# Software Engineer         Cary, NC   2d   \n",
       "3  Software Engineer, Fullstack, 1+ Years of Expe...  Los Angeles, CA   2d   \n",
       "4                                  Software Engineer       Seguin, TX   2d   \n",
       "\n",
       "                          Salary  \n",
       "0   $68K - $94K (Glassdoor est.)  \n",
       "1   $61K - $104K (Employer est.)  \n",
       "2  $95K - $118K (Glassdoor est.)  \n",
       "3   $97K - $145K (Employer est.)  \n",
       "4  $85K - $108K (Glassdoor est.)  "
      ]
     },
     "execution_count": 5,
     "metadata": {},
     "output_type": "execute_result"
    }
   ],
   "source": [
    "dataset.head() #displaying the records from pandas dataframe"
   ]
  },
  {
   "cell_type": "code",
   "execution_count": 6,
   "id": "2fd5b209",
   "metadata": {},
   "outputs": [
    {
     "name": "stdout",
     "output_type": "stream",
     "text": [
      "<class 'pandas.core.frame.DataFrame'>\n",
      "RangeIndex: 870 entries, 0 to 869\n",
      "Data columns (total 6 columns):\n",
      " #   Column         Non-Null Count  Dtype  \n",
      "---  ------         --------------  -----  \n",
      " 0   Company        868 non-null    object \n",
      " 1   Company Score  789 non-null    float64\n",
      " 2   Job Title      870 non-null    object \n",
      " 3   Location       857 non-null    object \n",
      " 4   Date           870 non-null    object \n",
      " 5   Salary         764 non-null    object \n",
      "dtypes: float64(1), object(5)\n",
      "memory usage: 40.9+ KB\n"
     ]
    }
   ],
   "source": [
    "dataset.info()  #displaying information like column names,no of records,datatypes"
   ]
  },
  {
   "cell_type": "code",
   "execution_count": 7,
   "id": "cdf0db03",
   "metadata": {},
   "outputs": [
    {
     "data": {
      "text/plain": [
       "Company            2\n",
       "Company Score     81\n",
       "Job Title          0\n",
       "Location          13\n",
       "Date               0\n",
       "Salary           106\n",
       "dtype: int64"
      ]
     },
     "execution_count": 7,
     "metadata": {},
     "output_type": "execute_result"
    }
   ],
   "source": [
    "dataset.isna().sum()  ##checking for the number of missing values in each column"
   ]
  },
  {
   "cell_type": "code",
   "execution_count": 8,
   "id": "7e49505b",
   "metadata": {},
   "outputs": [
    {
     "data": {
      "text/html": [
       "<div>\n",
       "<style scoped>\n",
       "    .dataframe tbody tr th:only-of-type {\n",
       "        vertical-align: middle;\n",
       "    }\n",
       "\n",
       "    .dataframe tbody tr th {\n",
       "        vertical-align: top;\n",
       "    }\n",
       "\n",
       "    .dataframe thead th {\n",
       "        text-align: right;\n",
       "    }\n",
       "</style>\n",
       "<table border=\"1\" class=\"dataframe\">\n",
       "  <thead>\n",
       "    <tr style=\"text-align: right;\">\n",
       "      <th></th>\n",
       "      <th>Company</th>\n",
       "      <th>Company Score</th>\n",
       "      <th>Job Title</th>\n",
       "      <th>Location</th>\n",
       "      <th>Date</th>\n",
       "      <th>Salary</th>\n",
       "    </tr>\n",
       "  </thead>\n",
       "  <tbody>\n",
       "    <tr>\n",
       "      <th>764</th>\n",
       "      <td>January Technologies</td>\n",
       "      <td>4.5</td>\n",
       "      <td>Software Engineer III</td>\n",
       "      <td>Fort Collins, CO</td>\n",
       "      <td>12d</td>\n",
       "      <td>NaN</td>\n",
       "    </tr>\n",
       "    <tr>\n",
       "      <th>765</th>\n",
       "      <td>Zebra Technologies</td>\n",
       "      <td>4.1</td>\n",
       "      <td>JavaScript Software Engineer – Analytics UI Team</td>\n",
       "      <td>Indianapolis, IN</td>\n",
       "      <td>4d</td>\n",
       "      <td>NaN</td>\n",
       "    </tr>\n",
       "    <tr>\n",
       "      <th>766</th>\n",
       "      <td>Credit One Bank</td>\n",
       "      <td>3.8</td>\n",
       "      <td>Software Engineer, Borrower Activation</td>\n",
       "      <td>United States</td>\n",
       "      <td>12d</td>\n",
       "      <td>NaN</td>\n",
       "    </tr>\n",
       "    <tr>\n",
       "      <th>767</th>\n",
       "      <td>Visa</td>\n",
       "      <td>3.8</td>\n",
       "      <td>DevSecOps Software Engineer, II</td>\n",
       "      <td>Holtsville, NY</td>\n",
       "      <td>30d+</td>\n",
       "      <td>NaN</td>\n",
       "    </tr>\n",
       "    <tr>\n",
       "      <th>768</th>\n",
       "      <td>Foot Locker</td>\n",
       "      <td>4.6</td>\n",
       "      <td>Software Engineer I</td>\n",
       "      <td>Las Vegas, NV</td>\n",
       "      <td>8d</td>\n",
       "      <td>NaN</td>\n",
       "    </tr>\n",
       "    <tr>\n",
       "      <th>...</th>\n",
       "      <td>...</td>\n",
       "      <td>...</td>\n",
       "      <td>...</td>\n",
       "      <td>...</td>\n",
       "      <td>...</td>\n",
       "      <td>...</td>\n",
       "    </tr>\n",
       "    <tr>\n",
       "      <th>865</th>\n",
       "      <td>RXO</td>\n",
       "      <td>NaN</td>\n",
       "      <td>Software Engineer, Machine Learning Compute</td>\n",
       "      <td>San Francisco, CA</td>\n",
       "      <td>6d</td>\n",
       "      <td>NaN</td>\n",
       "    </tr>\n",
       "    <tr>\n",
       "      <th>866</th>\n",
       "      <td>Infosys</td>\n",
       "      <td>NaN</td>\n",
       "      <td>Software Engineer - 3 (Apache NiFi)</td>\n",
       "      <td>Annapolis Junction, MD</td>\n",
       "      <td>18d</td>\n",
       "      <td>NaN</td>\n",
       "    </tr>\n",
       "    <tr>\n",
       "      <th>867</th>\n",
       "      <td>Medtronic</td>\n",
       "      <td>NaN</td>\n",
       "      <td>Senior Software Engineer</td>\n",
       "      <td>Southfield, MI</td>\n",
       "      <td>19d</td>\n",
       "      <td>NaN</td>\n",
       "    </tr>\n",
       "    <tr>\n",
       "      <th>868</th>\n",
       "      <td>NaN</td>\n",
       "      <td>NaN</td>\n",
       "      <td>Junior Python Developer</td>\n",
       "      <td>Charlotte, NC</td>\n",
       "      <td>2d</td>\n",
       "      <td>NaN</td>\n",
       "    </tr>\n",
       "    <tr>\n",
       "      <th>869</th>\n",
       "      <td>NaN</td>\n",
       "      <td>NaN</td>\n",
       "      <td>GUI Software Engineer II - Surgical Robotics</td>\n",
       "      <td>Boston, MA</td>\n",
       "      <td>10d</td>\n",
       "      <td>NaN</td>\n",
       "    </tr>\n",
       "  </tbody>\n",
       "</table>\n",
       "<p>106 rows × 6 columns</p>\n",
       "</div>"
      ],
      "text/plain": [
       "                  Company  Company Score  \\\n",
       "764  January Technologies            4.5   \n",
       "765    Zebra Technologies            4.1   \n",
       "766       Credit One Bank            3.8   \n",
       "767                  Visa            3.8   \n",
       "768           Foot Locker            4.6   \n",
       "..                    ...            ...   \n",
       "865                   RXO            NaN   \n",
       "866               Infosys            NaN   \n",
       "867             Medtronic            NaN   \n",
       "868                   NaN            NaN   \n",
       "869                   NaN            NaN   \n",
       "\n",
       "                                            Job Title                Location  \\\n",
       "764                             Software Engineer III        Fort Collins, CO   \n",
       "765  JavaScript Software Engineer – Analytics UI Team        Indianapolis, IN   \n",
       "766            Software Engineer, Borrower Activation           United States   \n",
       "767                   DevSecOps Software Engineer, II          Holtsville, NY   \n",
       "768                               Software Engineer I           Las Vegas, NV   \n",
       "..                                                ...                     ...   \n",
       "865       Software Engineer, Machine Learning Compute       San Francisco, CA   \n",
       "866               Software Engineer - 3 (Apache NiFi)  Annapolis Junction, MD   \n",
       "867                          Senior Software Engineer          Southfield, MI   \n",
       "868                           Junior Python Developer           Charlotte, NC   \n",
       "869      GUI Software Engineer II - Surgical Robotics              Boston, MA   \n",
       "\n",
       "     Date Salary  \n",
       "764   12d    NaN  \n",
       "765    4d    NaN  \n",
       "766   12d    NaN  \n",
       "767  30d+    NaN  \n",
       "768    8d    NaN  \n",
       "..    ...    ...  \n",
       "865    6d    NaN  \n",
       "866   18d    NaN  \n",
       "867   19d    NaN  \n",
       "868    2d    NaN  \n",
       "869   10d    NaN  \n",
       "\n",
       "[106 rows x 6 columns]"
      ]
     },
     "execution_count": 8,
     "metadata": {},
     "output_type": "execute_result"
    }
   ],
   "source": [
    "dataset[dataset['Salary'].isna()] ## displaying the rows with missing values in Salary column"
   ]
  },
  {
   "cell_type": "code",
   "execution_count": 9,
   "id": "14299c08",
   "metadata": {},
   "outputs": [],
   "source": [
    "i = dataset[dataset['Salary'].isna()].index ## getting the index of the missing values in salary column in to i"
   ]
  },
  {
   "cell_type": "code",
   "execution_count": 10,
   "id": "6b567e88",
   "metadata": {},
   "outputs": [],
   "source": [
    "dataset = dataset.drop(i) ## dropping the records with missing values in salary column "
   ]
  },
  {
   "cell_type": "code",
   "execution_count": 11,
   "id": "074461a2",
   "metadata": {},
   "outputs": [
    {
     "data": {
      "text/plain": [
       "Company           0\n",
       "Company Score     0\n",
       "Job Title         0\n",
       "Location         11\n",
       "Date              0\n",
       "Salary            0\n",
       "dtype: int64"
      ]
     },
     "execution_count": 11,
     "metadata": {},
     "output_type": "execute_result"
    }
   ],
   "source": [
    "dataset.isna().sum() ## checking for missing values after cleaning up salary column"
   ]
  },
  {
   "cell_type": "code",
   "execution_count": 12,
   "id": "cd85a292",
   "metadata": {},
   "outputs": [
    {
     "data": {
      "text/html": [
       "<div>\n",
       "<style scoped>\n",
       "    .dataframe tbody tr th:only-of-type {\n",
       "        vertical-align: middle;\n",
       "    }\n",
       "\n",
       "    .dataframe tbody tr th {\n",
       "        vertical-align: top;\n",
       "    }\n",
       "\n",
       "    .dataframe thead th {\n",
       "        text-align: right;\n",
       "    }\n",
       "</style>\n",
       "<table border=\"1\" class=\"dataframe\">\n",
       "  <thead>\n",
       "    <tr style=\"text-align: right;\">\n",
       "      <th></th>\n",
       "      <th>Company</th>\n",
       "      <th>Company Score</th>\n",
       "      <th>Job Title</th>\n",
       "      <th>Location</th>\n",
       "      <th>Date</th>\n",
       "      <th>Salary</th>\n",
       "    </tr>\n",
       "  </thead>\n",
       "  <tbody>\n",
       "    <tr>\n",
       "      <th>19</th>\n",
       "      <td>Megaport</td>\n",
       "      <td>3.4</td>\n",
       "      <td>Frontend Software Engineer</td>\n",
       "      <td>NaN</td>\n",
       "      <td>2d</td>\n",
       "      <td>$84K - $133K (Glassdoor est.)</td>\n",
       "    </tr>\n",
       "    <tr>\n",
       "      <th>44</th>\n",
       "      <td>McKesson</td>\n",
       "      <td>3.9</td>\n",
       "      <td>Software Engineer</td>\n",
       "      <td>NaN</td>\n",
       "      <td>2d</td>\n",
       "      <td>$88K - $124K (Glassdoor est.)</td>\n",
       "    </tr>\n",
       "    <tr>\n",
       "      <th>97</th>\n",
       "      <td>Careerus Soultions</td>\n",
       "      <td>4.0</td>\n",
       "      <td>DevOps Engineer</td>\n",
       "      <td>NaN</td>\n",
       "      <td>2d</td>\n",
       "      <td>$90K - $125K (Glassdoor est.)</td>\n",
       "    </tr>\n",
       "    <tr>\n",
       "      <th>103</th>\n",
       "      <td>Diverse Career Solutions</td>\n",
       "      <td>3.7</td>\n",
       "      <td>Software Engineer</td>\n",
       "      <td>NaN</td>\n",
       "      <td>2d</td>\n",
       "      <td>$48K - $81K (Glassdoor est.)</td>\n",
       "    </tr>\n",
       "    <tr>\n",
       "      <th>174</th>\n",
       "      <td>First Command Financial Services, Inc.</td>\n",
       "      <td>4.2</td>\n",
       "      <td>Software Engineer</td>\n",
       "      <td>NaN</td>\n",
       "      <td>2d</td>\n",
       "      <td>$50.00 - $70.00 Per Hour (Employer est.)</td>\n",
       "    </tr>\n",
       "    <tr>\n",
       "      <th>264</th>\n",
       "      <td>Flysoft</td>\n",
       "      <td>5.0</td>\n",
       "      <td>Software Engineer</td>\n",
       "      <td>NaN</td>\n",
       "      <td>2d</td>\n",
       "      <td>$78K - $112K (Glassdoor est.)</td>\n",
       "    </tr>\n",
       "    <tr>\n",
       "      <th>298</th>\n",
       "      <td>Numerica Corporation</td>\n",
       "      <td>4.7</td>\n",
       "      <td>Mobile Engineer</td>\n",
       "      <td>NaN</td>\n",
       "      <td>2d</td>\n",
       "      <td>$71K - $104K (Glassdoor est.)</td>\n",
       "    </tr>\n",
       "    <tr>\n",
       "      <th>304</th>\n",
       "      <td>Northwest Talent Solutions LLC</td>\n",
       "      <td>3.6</td>\n",
       "      <td>Software Engineer 2</td>\n",
       "      <td>NaN</td>\n",
       "      <td>2d</td>\n",
       "      <td>$93K - $131K (Glassdoor est.)</td>\n",
       "    </tr>\n",
       "    <tr>\n",
       "      <th>360</th>\n",
       "      <td>IXL Learning</td>\n",
       "      <td>3.8</td>\n",
       "      <td>Sr Software Engineer, Snowflake focus</td>\n",
       "      <td>NaN</td>\n",
       "      <td>2d</td>\n",
       "      <td>$54K - $83K (Employer est.)</td>\n",
       "    </tr>\n",
       "    <tr>\n",
       "      <th>394</th>\n",
       "      <td>Proteus Co.</td>\n",
       "      <td>3.5</td>\n",
       "      <td>Engineer II - Software</td>\n",
       "      <td>NaN</td>\n",
       "      <td>2d</td>\n",
       "      <td>$56K - $89K (Glassdoor est.)</td>\n",
       "    </tr>\n",
       "    <tr>\n",
       "      <th>528</th>\n",
       "      <td>Uber</td>\n",
       "      <td>3.9</td>\n",
       "      <td>Entry Level Support Equipment Software Engineer</td>\n",
       "      <td>NaN</td>\n",
       "      <td>2d</td>\n",
       "      <td>$105.00 - $115.00 Per Hour (Employer est.)</td>\n",
       "    </tr>\n",
       "  </tbody>\n",
       "</table>\n",
       "</div>"
      ],
      "text/plain": [
       "                                    Company  Company Score  \\\n",
       "19                                 Megaport            3.4   \n",
       "44                                 McKesson            3.9   \n",
       "97                       Careerus Soultions            4.0   \n",
       "103                Diverse Career Solutions            3.7   \n",
       "174  First Command Financial Services, Inc.            4.2   \n",
       "264                                 Flysoft            5.0   \n",
       "298                    Numerica Corporation            4.7   \n",
       "304          Northwest Talent Solutions LLC            3.6   \n",
       "360                            IXL Learning            3.8   \n",
       "394                             Proteus Co.            3.5   \n",
       "528                                    Uber            3.9   \n",
       "\n",
       "                                           Job Title Location Date  \\\n",
       "19                        Frontend Software Engineer      NaN   2d   \n",
       "44                                 Software Engineer      NaN   2d   \n",
       "97                                   DevOps Engineer      NaN   2d   \n",
       "103                                Software Engineer      NaN   2d   \n",
       "174                                Software Engineer      NaN   2d   \n",
       "264                                Software Engineer      NaN   2d   \n",
       "298                                  Mobile Engineer      NaN   2d   \n",
       "304                              Software Engineer 2      NaN   2d   \n",
       "360            Sr Software Engineer, Snowflake focus      NaN   2d   \n",
       "394                           Engineer II - Software      NaN   2d   \n",
       "528  Entry Level Support Equipment Software Engineer      NaN   2d   \n",
       "\n",
       "                                         Salary  \n",
       "19                $84K - $133K (Glassdoor est.)  \n",
       "44                $88K - $124K (Glassdoor est.)  \n",
       "97                $90K - $125K (Glassdoor est.)  \n",
       "103                $48K - $81K (Glassdoor est.)  \n",
       "174    $50.00 - $70.00 Per Hour (Employer est.)  \n",
       "264               $78K - $112K (Glassdoor est.)  \n",
       "298               $71K - $104K (Glassdoor est.)  \n",
       "304               $93K - $131K (Glassdoor est.)  \n",
       "360                 $54K - $83K (Employer est.)  \n",
       "394                $56K - $89K (Glassdoor est.)  \n",
       "528  $105.00 - $115.00 Per Hour (Employer est.)  "
      ]
     },
     "execution_count": 12,
     "metadata": {},
     "output_type": "execute_result"
    }
   ],
   "source": [
    "dataset[dataset['Location'].isna()]  ## getting records with missing value in Location column"
   ]
  },
  {
   "cell_type": "code",
   "execution_count": 13,
   "id": "591296cc",
   "metadata": {},
   "outputs": [],
   "source": [
    "#i = dataset[dataset['Location'].isna()].index ## taking index of missing values in Location in to i"
   ]
  },
  {
   "cell_type": "code",
   "execution_count": 14,
   "id": "9eb881d4",
   "metadata": {
    "scrolled": true
   },
   "outputs": [],
   "source": [
    "#dataset = dataset.drop(i) ## dropping records with missing location values"
   ]
  },
  {
   "cell_type": "code",
   "execution_count": 15,
   "id": "b3f55f20",
   "metadata": {},
   "outputs": [],
   "source": [
    "dataset['Location'] = dataset['Location'].apply(lambda x: \"United States\" if pd.isnull(x) else x)"
   ]
  },
  {
   "cell_type": "code",
   "execution_count": 16,
   "id": "e7e40f09",
   "metadata": {},
   "outputs": [],
   "source": [
    "##dataset = dataset.dropna()"
   ]
  },
  {
   "cell_type": "code",
   "execution_count": 17,
   "id": "612fabeb",
   "metadata": {},
   "outputs": [
    {
     "data": {
      "text/plain": [
       "Company          0\n",
       "Company Score    0\n",
       "Job Title        0\n",
       "Location         0\n",
       "Date             0\n",
       "Salary           0\n",
       "dtype: int64"
      ]
     },
     "execution_count": 17,
     "metadata": {},
     "output_type": "execute_result"
    }
   ],
   "source": [
    "dataset.isna().sum() ## checking if there are any missing values"
   ]
  },
  {
   "cell_type": "code",
   "execution_count": 18,
   "id": "a501ee15",
   "metadata": {},
   "outputs": [
    {
     "data": {
      "text/plain": [
       "0       $68K - $94K (Glassdoor est.)\n",
       "1       $61K - $104K (Employer est.)\n",
       "2      $95K - $118K (Glassdoor est.)\n",
       "3       $97K - $145K (Employer est.)\n",
       "4      $85K - $108K (Glassdoor est.)\n",
       "                   ...              \n",
       "759    $160K - $385K (Employer est.)\n",
       "760            $222K (Employer est.)\n",
       "761    $82K - $118K (Glassdoor est.)\n",
       "762    $69K - $107K (Glassdoor est.)\n",
       "763     $95K - $143K (Employer est.)\n",
       "Name: Salary, Length: 764, dtype: object"
      ]
     },
     "execution_count": 18,
     "metadata": {},
     "output_type": "execute_result"
    }
   ],
   "source": [
    "dataset['Salary'].astype(str) ## converting salary column in to string datatype"
   ]
  },
  {
   "cell_type": "code",
   "execution_count": 19,
   "id": "e72922e6",
   "metadata": {},
   "outputs": [],
   "source": [
    "## below is the UDF for finding min salary from the Salary column\n",
    "\n",
    "def minsal(x):\n",
    "    num = re.findall(r'\\d+',x)        \n",
    "    if 'hour' in x.lower() or 'hr' in x.lower():\n",
    "        hourly_rate = float(num[0])\n",
    "        annual_salary = hourly_rate * 40 * 52\n",
    "        return int(annual_salary)\n",
    "    if 'k' in x.lower():\n",
    "        return int(float(num[0]) * 1000)\n",
    "    return int(num[0])"
   ]
  },
  {
   "cell_type": "code",
   "execution_count": 20,
   "id": "ce8887bd",
   "metadata": {},
   "outputs": [],
   "source": [
    "## below is the UDF for finding max salary from the Salary column\n",
    "def maxsal(x):\n",
    "    num = list(map(float,re.findall(r\"\\d+\\.\\d+|\\d+\",x)))\n",
    "    \n",
    "    if 'hour' in x.lower() or 'hr' in x.lower():\n",
    "        hourly_rate = max(num)\n",
    "        annual_salary = hourly_rate * 40 * 52\n",
    "        return int(annual_salary)\n",
    "    elif 'k' in x.lower():\n",
    "        return int(max(num) * 1000)\n",
    "    else:\n",
    "        return \"correctit\""
   ]
  },
  {
   "cell_type": "code",
   "execution_count": 21,
   "id": "8126c8b1",
   "metadata": {},
   "outputs": [],
   "source": [
    "## below is the UDF for obtaining the company that estimated from the Salary column\n",
    "def EstimatedBy(x):\n",
    "    text = re.findall(r'\\((.*?)\\)',x)\n",
    "    text1 = text[0].split(\" \")\n",
    "    return text1[0]"
   ]
  },
  {
   "cell_type": "code",
   "execution_count": 22,
   "id": "9d2f24b7",
   "metadata": {},
   "outputs": [],
   "source": [
    "dataset['min'] = dataset['Salary'].apply(minsal) ## creating new column for storing min salary"
   ]
  },
  {
   "cell_type": "code",
   "execution_count": 23,
   "id": "a4369563",
   "metadata": {},
   "outputs": [],
   "source": [
    "dataset['max'] = dataset['Salary'].apply(maxsal)## creating new column for storing max salary"
   ]
  },
  {
   "cell_type": "code",
   "execution_count": 24,
   "id": "2c20295c",
   "metadata": {},
   "outputs": [],
   "source": [
    "dataset['EstimatedBy'] = dataset['Salary'].apply(EstimatedBy) ## creating new column for storing estimated by"
   ]
  },
  {
   "cell_type": "code",
   "execution_count": 25,
   "id": "d1961b12",
   "metadata": {},
   "outputs": [],
   "source": [
    "##dataset = dataset.drop('Salary',axis=1) ## dropping Salary column"
   ]
  },
  {
   "cell_type": "code",
   "execution_count": 26,
   "id": "e6ea4f2b",
   "metadata": {},
   "outputs": [
    {
     "data": {
      "text/html": [
       "<div>\n",
       "<style scoped>\n",
       "    .dataframe tbody tr th:only-of-type {\n",
       "        vertical-align: middle;\n",
       "    }\n",
       "\n",
       "    .dataframe tbody tr th {\n",
       "        vertical-align: top;\n",
       "    }\n",
       "\n",
       "    .dataframe thead th {\n",
       "        text-align: right;\n",
       "    }\n",
       "</style>\n",
       "<table border=\"1\" class=\"dataframe\">\n",
       "  <thead>\n",
       "    <tr style=\"text-align: right;\">\n",
       "      <th></th>\n",
       "      <th>Company</th>\n",
       "      <th>Company Score</th>\n",
       "      <th>Job Title</th>\n",
       "      <th>Location</th>\n",
       "      <th>Date</th>\n",
       "      <th>Salary</th>\n",
       "      <th>min</th>\n",
       "      <th>max</th>\n",
       "      <th>EstimatedBy</th>\n",
       "    </tr>\n",
       "  </thead>\n",
       "  <tbody>\n",
       "    <tr>\n",
       "      <th>0</th>\n",
       "      <td>ViewSoft</td>\n",
       "      <td>4.8</td>\n",
       "      <td>Software Engineer</td>\n",
       "      <td>Manassas, VA</td>\n",
       "      <td>8d</td>\n",
       "      <td>$68K - $94K (Glassdoor est.)</td>\n",
       "      <td>68000</td>\n",
       "      <td>94000</td>\n",
       "      <td>Glassdoor</td>\n",
       "    </tr>\n",
       "    <tr>\n",
       "      <th>1</th>\n",
       "      <td>Workiva</td>\n",
       "      <td>4.3</td>\n",
       "      <td>Software Support Engineer</td>\n",
       "      <td>Remote</td>\n",
       "      <td>2d</td>\n",
       "      <td>$61K - $104K (Employer est.)</td>\n",
       "      <td>61000</td>\n",
       "      <td>104000</td>\n",
       "      <td>Employer</td>\n",
       "    </tr>\n",
       "    <tr>\n",
       "      <th>2</th>\n",
       "      <td>Garmin International, Inc.</td>\n",
       "      <td>3.9</td>\n",
       "      <td>C# Software Engineer</td>\n",
       "      <td>Cary, NC</td>\n",
       "      <td>2d</td>\n",
       "      <td>$95K - $118K (Glassdoor est.)</td>\n",
       "      <td>95000</td>\n",
       "      <td>118000</td>\n",
       "      <td>Glassdoor</td>\n",
       "    </tr>\n",
       "    <tr>\n",
       "      <th>3</th>\n",
       "      <td>Snapchat</td>\n",
       "      <td>3.5</td>\n",
       "      <td>Software Engineer, Fullstack, 1+ Years of Expe...</td>\n",
       "      <td>Los Angeles, CA</td>\n",
       "      <td>2d</td>\n",
       "      <td>$97K - $145K (Employer est.)</td>\n",
       "      <td>97000</td>\n",
       "      <td>145000</td>\n",
       "      <td>Employer</td>\n",
       "    </tr>\n",
       "    <tr>\n",
       "      <th>4</th>\n",
       "      <td>Vitesco Technologies Group AG</td>\n",
       "      <td>3.1</td>\n",
       "      <td>Software Engineer</td>\n",
       "      <td>Seguin, TX</td>\n",
       "      <td>2d</td>\n",
       "      <td>$85K - $108K (Glassdoor est.)</td>\n",
       "      <td>85000</td>\n",
       "      <td>108000</td>\n",
       "      <td>Glassdoor</td>\n",
       "    </tr>\n",
       "  </tbody>\n",
       "</table>\n",
       "</div>"
      ],
      "text/plain": [
       "                         Company  Company Score  \\\n",
       "0                       ViewSoft            4.8   \n",
       "1                        Workiva            4.3   \n",
       "2     Garmin International, Inc.            3.9   \n",
       "3                       Snapchat            3.5   \n",
       "4  Vitesco Technologies Group AG            3.1   \n",
       "\n",
       "                                           Job Title         Location Date  \\\n",
       "0                                  Software Engineer     Manassas, VA   8d   \n",
       "1                          Software Support Engineer           Remote   2d   \n",
       "2                               C# Software Engineer         Cary, NC   2d   \n",
       "3  Software Engineer, Fullstack, 1+ Years of Expe...  Los Angeles, CA   2d   \n",
       "4                                  Software Engineer       Seguin, TX   2d   \n",
       "\n",
       "                          Salary    min     max EstimatedBy  \n",
       "0   $68K - $94K (Glassdoor est.)  68000   94000   Glassdoor  \n",
       "1   $61K - $104K (Employer est.)  61000  104000    Employer  \n",
       "2  $95K - $118K (Glassdoor est.)  95000  118000   Glassdoor  \n",
       "3   $97K - $145K (Employer est.)  97000  145000    Employer  \n",
       "4  $85K - $108K (Glassdoor est.)  85000  108000   Glassdoor  "
      ]
     },
     "execution_count": 26,
     "metadata": {},
     "output_type": "execute_result"
    }
   ],
   "source": [
    "dataset.head() ## displaying the dataframe"
   ]
  },
  {
   "cell_type": "code",
   "execution_count": 27,
   "id": "22bae974",
   "metadata": {},
   "outputs": [
    {
     "data": {
      "text/plain": [
       "EstimatedBy\n",
       "Employer     436\n",
       "Glassdoor    328\n",
       "Name: count, dtype: int64"
      ]
     },
     "execution_count": 27,
     "metadata": {},
     "output_type": "execute_result"
    }
   ],
   "source": [
    "dataset['EstimatedBy'].value_counts() ##finding value counts of estimated by"
   ]
  },
  {
   "cell_type": "code",
   "execution_count": 28,
   "id": "40499ed9",
   "metadata": {},
   "outputs": [],
   "source": [
    "dataset['avgSalary']= (dataset['min']+dataset['max'])/2 ##creating the new column average salary from min and max"
   ]
  },
  {
   "cell_type": "code",
   "execution_count": 29,
   "id": "25df0ea8",
   "metadata": {},
   "outputs": [
    {
     "data": {
      "text/html": [
       "<div>\n",
       "<style scoped>\n",
       "    .dataframe tbody tr th:only-of-type {\n",
       "        vertical-align: middle;\n",
       "    }\n",
       "\n",
       "    .dataframe tbody tr th {\n",
       "        vertical-align: top;\n",
       "    }\n",
       "\n",
       "    .dataframe thead th {\n",
       "        text-align: right;\n",
       "    }\n",
       "</style>\n",
       "<table border=\"1\" class=\"dataframe\">\n",
       "  <thead>\n",
       "    <tr style=\"text-align: right;\">\n",
       "      <th></th>\n",
       "      <th>Company</th>\n",
       "      <th>Company Score</th>\n",
       "      <th>Job Title</th>\n",
       "      <th>Location</th>\n",
       "      <th>Date</th>\n",
       "      <th>Salary</th>\n",
       "      <th>min</th>\n",
       "      <th>max</th>\n",
       "      <th>EstimatedBy</th>\n",
       "      <th>avgSalary</th>\n",
       "    </tr>\n",
       "  </thead>\n",
       "  <tbody>\n",
       "    <tr>\n",
       "      <th>0</th>\n",
       "      <td>ViewSoft</td>\n",
       "      <td>4.8</td>\n",
       "      <td>Software Engineer</td>\n",
       "      <td>Manassas, VA</td>\n",
       "      <td>8d</td>\n",
       "      <td>$68K - $94K (Glassdoor est.)</td>\n",
       "      <td>68000</td>\n",
       "      <td>94000</td>\n",
       "      <td>Glassdoor</td>\n",
       "      <td>81000.0</td>\n",
       "    </tr>\n",
       "    <tr>\n",
       "      <th>1</th>\n",
       "      <td>Workiva</td>\n",
       "      <td>4.3</td>\n",
       "      <td>Software Support Engineer</td>\n",
       "      <td>Remote</td>\n",
       "      <td>2d</td>\n",
       "      <td>$61K - $104K (Employer est.)</td>\n",
       "      <td>61000</td>\n",
       "      <td>104000</td>\n",
       "      <td>Employer</td>\n",
       "      <td>82500.0</td>\n",
       "    </tr>\n",
       "    <tr>\n",
       "      <th>2</th>\n",
       "      <td>Garmin International, Inc.</td>\n",
       "      <td>3.9</td>\n",
       "      <td>C# Software Engineer</td>\n",
       "      <td>Cary, NC</td>\n",
       "      <td>2d</td>\n",
       "      <td>$95K - $118K (Glassdoor est.)</td>\n",
       "      <td>95000</td>\n",
       "      <td>118000</td>\n",
       "      <td>Glassdoor</td>\n",
       "      <td>106500.0</td>\n",
       "    </tr>\n",
       "    <tr>\n",
       "      <th>3</th>\n",
       "      <td>Snapchat</td>\n",
       "      <td>3.5</td>\n",
       "      <td>Software Engineer, Fullstack, 1+ Years of Expe...</td>\n",
       "      <td>Los Angeles, CA</td>\n",
       "      <td>2d</td>\n",
       "      <td>$97K - $145K (Employer est.)</td>\n",
       "      <td>97000</td>\n",
       "      <td>145000</td>\n",
       "      <td>Employer</td>\n",
       "      <td>121000.0</td>\n",
       "    </tr>\n",
       "    <tr>\n",
       "      <th>4</th>\n",
       "      <td>Vitesco Technologies Group AG</td>\n",
       "      <td>3.1</td>\n",
       "      <td>Software Engineer</td>\n",
       "      <td>Seguin, TX</td>\n",
       "      <td>2d</td>\n",
       "      <td>$85K - $108K (Glassdoor est.)</td>\n",
       "      <td>85000</td>\n",
       "      <td>108000</td>\n",
       "      <td>Glassdoor</td>\n",
       "      <td>96500.0</td>\n",
       "    </tr>\n",
       "  </tbody>\n",
       "</table>\n",
       "</div>"
      ],
      "text/plain": [
       "                         Company  Company Score  \\\n",
       "0                       ViewSoft            4.8   \n",
       "1                        Workiva            4.3   \n",
       "2     Garmin International, Inc.            3.9   \n",
       "3                       Snapchat            3.5   \n",
       "4  Vitesco Technologies Group AG            3.1   \n",
       "\n",
       "                                           Job Title         Location Date  \\\n",
       "0                                  Software Engineer     Manassas, VA   8d   \n",
       "1                          Software Support Engineer           Remote   2d   \n",
       "2                               C# Software Engineer         Cary, NC   2d   \n",
       "3  Software Engineer, Fullstack, 1+ Years of Expe...  Los Angeles, CA   2d   \n",
       "4                                  Software Engineer       Seguin, TX   2d   \n",
       "\n",
       "                          Salary    min     max EstimatedBy  avgSalary  \n",
       "0   $68K - $94K (Glassdoor est.)  68000   94000   Glassdoor    81000.0  \n",
       "1   $61K - $104K (Employer est.)  61000  104000    Employer    82500.0  \n",
       "2  $95K - $118K (Glassdoor est.)  95000  118000   Glassdoor   106500.0  \n",
       "3   $97K - $145K (Employer est.)  97000  145000    Employer   121000.0  \n",
       "4  $85K - $108K (Glassdoor est.)  85000  108000   Glassdoor    96500.0  "
      ]
     },
     "execution_count": 29,
     "metadata": {},
     "output_type": "execute_result"
    }
   ],
   "source": [
    "dataset.head(5)"
   ]
  },
  {
   "cell_type": "code",
   "execution_count": 30,
   "id": "45551cc4",
   "metadata": {},
   "outputs": [
    {
     "data": {
      "text/plain": [
       "Company          0\n",
       "Company Score    0\n",
       "Job Title        0\n",
       "Location         0\n",
       "Date             0\n",
       "Salary           0\n",
       "min              0\n",
       "max              0\n",
       "EstimatedBy      0\n",
       "avgSalary        0\n",
       "dtype: int64"
      ]
     },
     "execution_count": 30,
     "metadata": {},
     "output_type": "execute_result"
    }
   ],
   "source": [
    "dataset.isna().sum()  "
   ]
  },
  {
   "cell_type": "code",
   "execution_count": 31,
   "id": "e57d6523",
   "metadata": {},
   "outputs": [
    {
     "name": "stderr",
     "output_type": "stream",
     "text": [
      "/Users/saibrahmanaidukaturi/anaconda3/lib/python3.9/site-packages/seaborn/_oldcore.py:1119: FutureWarning: use_inf_as_na option is deprecated and will be removed in a future version. Convert inf values to NaN before operating instead.\n",
      "  with pd.option_context('mode.use_inf_as_na', True):\n"
     ]
    },
    {
     "data": {
      "image/png": "[encoded data removed]",
      "text/plain": [
       "<Figure size 640x480 with 1 Axes>"
      ]
     },
     "metadata": {},
     "output_type": "display_data"
    }
   ],
   "source": [
    "## checking the distribution of Salary\n",
    "sns.histplot(dataset['avgSalary'], kde=True)\n",
    "plt.title('Salary Distribution')\n",
    "plt.xlabel('Salary (USD)')\n",
    "plt.ylabel('Frequency')\n",
    "plt.show()"
   ]
  },
  {
   "cell_type": "code",
   "execution_count": 32,
   "id": "0be614c9",
   "metadata": {},
   "outputs": [
    {
     "data": {
      "text/plain": [
       "count       764.000000\n",
       "mean     129274.206806\n",
       "std       46711.054667\n",
       "min        6500.000000\n",
       "25%       99000.000000\n",
       "50%      118000.000000\n",
       "75%      150000.000000\n",
       "max      490000.000000\n",
       "Name: avgSalary, dtype: float64"
      ]
     },
     "execution_count": 32,
     "metadata": {},
     "output_type": "execute_result"
    }
   ],
   "source": [
    "dataset['avgSalary'].describe() ## finding the key statistics like mean,std,min,max of salary column"
   ]
  },
  {
   "cell_type": "code",
   "execution_count": 33,
   "id": "8c17a52c",
   "metadata": {},
   "outputs": [
    {
     "name": "stdout",
     "output_type": "stream",
     "text": [
      "Skewness: 1.8720476395122003\n"
     ]
    }
   ],
   "source": [
    "skewness = dataset['avgSalary'].skew() ## checking for skewness\n",
    "print(f'Skewness: {skewness}')"
   ]
  },
  {
   "cell_type": "code",
   "execution_count": 34,
   "id": "b744240d",
   "metadata": {},
   "outputs": [],
   "source": [
    "#dataset['Job Title'].value_counts() ## finding the value counts of Job title"
   ]
  },
  {
   "cell_type": "code",
   "execution_count": 35,
   "id": "894d7ee9",
   "metadata": {},
   "outputs": [
    {
     "data": {
      "text/plain": [
       "\"## below is the userdefined function for standardizing the job title\\ndef standardize_title(text):\\n    # Convert text to title case\\n    text = text.title()\\n    \\n    # Regular expression to match Roman numerals\\n    roman_numerals = re.compile(r'\\x08(I|II|III|IV|V|VI|VII|VIII|IX|X)\\x08', re.IGNORECASE)\\n    \\n    # Convert matched Roman numerals back to uppercase\\n    text = roman_numerals.sub(lambda x: x.group().upper(), text)\\n    \\n    return text\\n\""
      ]
     },
     "execution_count": 35,
     "metadata": {},
     "output_type": "execute_result"
    }
   ],
   "source": [
    "'''## below is the userdefined function for standardizing the job title\n",
    "def standardize_title(text):\n",
    "    # Convert text to title case\n",
    "    text = text.title()\n",
    "    \n",
    "    # Regular expression to match Roman numerals\n",
    "    roman_numerals = re.compile(r'\\b(I|II|III|IV|V|VI|VII|VIII|IX|X)\\b', re.IGNORECASE)\n",
    "    \n",
    "    # Convert matched Roman numerals back to uppercase\n",
    "    text = roman_numerals.sub(lambda x: x.group().upper(), text)\n",
    "    \n",
    "    return text\n",
    "'''"
   ]
  },
  {
   "cell_type": "code",
   "execution_count": 36,
   "id": "0303c8a4",
   "metadata": {},
   "outputs": [],
   "source": [
    "#dataset['Job Title'] = dataset['Job Title'].apply(standardize_title) ## applying the standaridation of jobtitle"
   ]
  },
  {
   "cell_type": "code",
   "execution_count": 37,
   "id": "e02c4bc1",
   "metadata": {},
   "outputs": [],
   "source": [
    "#dataset['Job Title'].value_counts() ## checking value counts after standardization"
   ]
  },
  {
   "cell_type": "code",
   "execution_count": 38,
   "id": "b838cdd0",
   "metadata": {},
   "outputs": [],
   "source": [
    "## below is the UDF for finding recency in days\n",
    "def recency(x):\n",
    "    if 'hr' in x.lower() or 'h' in x.lower():\n",
    "        num = re.findall(r'\\d+', x)\n",
    "        return int(num[0]) / 24 \n",
    "    elif 'd' in x.lower():\n",
    "        num = re.findall(r'\\d+', x)\n",
    "        return int(num[0])  \n",
    "    else:\n",
    "        return None"
   ]
  },
  {
   "cell_type": "code",
   "execution_count": 39,
   "id": "ac0ad48d",
   "metadata": {},
   "outputs": [],
   "source": [
    "dataset['recency'] = dataset['Date'].apply(recency) ## creating column recency in days"
   ]
  },
  {
   "cell_type": "code",
   "execution_count": 40,
   "id": "7036e8dc",
   "metadata": {},
   "outputs": [
    {
     "data": {
      "text/html": [
       "<div>\n",
       "<style scoped>\n",
       "    .dataframe tbody tr th:only-of-type {\n",
       "        vertical-align: middle;\n",
       "    }\n",
       "\n",
       "    .dataframe tbody tr th {\n",
       "        vertical-align: top;\n",
       "    }\n",
       "\n",
       "    .dataframe thead th {\n",
       "        text-align: right;\n",
       "    }\n",
       "</style>\n",
       "<table border=\"1\" class=\"dataframe\">\n",
       "  <thead>\n",
       "    <tr style=\"text-align: right;\">\n",
       "      <th></th>\n",
       "      <th>Company</th>\n",
       "      <th>Company Score</th>\n",
       "      <th>Job Title</th>\n",
       "      <th>Location</th>\n",
       "      <th>Salary</th>\n",
       "      <th>min</th>\n",
       "      <th>max</th>\n",
       "      <th>EstimatedBy</th>\n",
       "      <th>avgSalary</th>\n",
       "      <th>recency</th>\n",
       "    </tr>\n",
       "  </thead>\n",
       "  <tbody>\n",
       "    <tr>\n",
       "      <th>0</th>\n",
       "      <td>ViewSoft</td>\n",
       "      <td>4.8</td>\n",
       "      <td>Software Engineer</td>\n",
       "      <td>Manassas, VA</td>\n",
       "      <td>$68K - $94K (Glassdoor est.)</td>\n",
       "      <td>68000</td>\n",
       "      <td>94000</td>\n",
       "      <td>Glassdoor</td>\n",
       "      <td>81000.0</td>\n",
       "      <td>8.0</td>\n",
       "    </tr>\n",
       "    <tr>\n",
       "      <th>1</th>\n",
       "      <td>Workiva</td>\n",
       "      <td>4.3</td>\n",
       "      <td>Software Support Engineer</td>\n",
       "      <td>Remote</td>\n",
       "      <td>$61K - $104K (Employer est.)</td>\n",
       "      <td>61000</td>\n",
       "      <td>104000</td>\n",
       "      <td>Employer</td>\n",
       "      <td>82500.0</td>\n",
       "      <td>2.0</td>\n",
       "    </tr>\n",
       "    <tr>\n",
       "      <th>2</th>\n",
       "      <td>Garmin International, Inc.</td>\n",
       "      <td>3.9</td>\n",
       "      <td>C# Software Engineer</td>\n",
       "      <td>Cary, NC</td>\n",
       "      <td>$95K - $118K (Glassdoor est.)</td>\n",
       "      <td>95000</td>\n",
       "      <td>118000</td>\n",
       "      <td>Glassdoor</td>\n",
       "      <td>106500.0</td>\n",
       "      <td>2.0</td>\n",
       "    </tr>\n",
       "    <tr>\n",
       "      <th>3</th>\n",
       "      <td>Snapchat</td>\n",
       "      <td>3.5</td>\n",
       "      <td>Software Engineer, Fullstack, 1+ Years of Expe...</td>\n",
       "      <td>Los Angeles, CA</td>\n",
       "      <td>$97K - $145K (Employer est.)</td>\n",
       "      <td>97000</td>\n",
       "      <td>145000</td>\n",
       "      <td>Employer</td>\n",
       "      <td>121000.0</td>\n",
       "      <td>2.0</td>\n",
       "    </tr>\n",
       "    <tr>\n",
       "      <th>4</th>\n",
       "      <td>Vitesco Technologies Group AG</td>\n",
       "      <td>3.1</td>\n",
       "      <td>Software Engineer</td>\n",
       "      <td>Seguin, TX</td>\n",
       "      <td>$85K - $108K (Glassdoor est.)</td>\n",
       "      <td>85000</td>\n",
       "      <td>108000</td>\n",
       "      <td>Glassdoor</td>\n",
       "      <td>96500.0</td>\n",
       "      <td>2.0</td>\n",
       "    </tr>\n",
       "    <tr>\n",
       "      <th>...</th>\n",
       "      <td>...</td>\n",
       "      <td>...</td>\n",
       "      <td>...</td>\n",
       "      <td>...</td>\n",
       "      <td>...</td>\n",
       "      <td>...</td>\n",
       "      <td>...</td>\n",
       "      <td>...</td>\n",
       "      <td>...</td>\n",
       "      <td>...</td>\n",
       "    </tr>\n",
       "    <tr>\n",
       "      <th>759</th>\n",
       "      <td>OpenAI</td>\n",
       "      <td>3.1</td>\n",
       "      <td>Apprentice ETL Software Engineer</td>\n",
       "      <td>Elkridge, MD</td>\n",
       "      <td>$160K - $385K (Employer est.)</td>\n",
       "      <td>160000</td>\n",
       "      <td>385000</td>\n",
       "      <td>Employer</td>\n",
       "      <td>272500.0</td>\n",
       "      <td>30.0</td>\n",
       "    </tr>\n",
       "    <tr>\n",
       "      <th>760</th>\n",
       "      <td>NCR Atleos</td>\n",
       "      <td>3.9</td>\n",
       "      <td>Software Engineer, Tool &amp; Infrastructure, Reli...</td>\n",
       "      <td>Palo Alto, CA</td>\n",
       "      <td>$222K (Employer est.)</td>\n",
       "      <td>222000</td>\n",
       "      <td>222000</td>\n",
       "      <td>Employer</td>\n",
       "      <td>222000.0</td>\n",
       "      <td>1.0</td>\n",
       "    </tr>\n",
       "    <tr>\n",
       "      <th>761</th>\n",
       "      <td>Electronic Warfare Associates</td>\n",
       "      <td>3.8</td>\n",
       "      <td>Software Engineer, Engineering Acceleration</td>\n",
       "      <td>San Francisco, CA</td>\n",
       "      <td>$82K - $118K (Glassdoor est.)</td>\n",
       "      <td>82000</td>\n",
       "      <td>118000</td>\n",
       "      <td>Glassdoor</td>\n",
       "      <td>100000.0</td>\n",
       "      <td>5.0</td>\n",
       "    </tr>\n",
       "    <tr>\n",
       "      <th>762</th>\n",
       "      <td>BillGO, Inc.</td>\n",
       "      <td>3.3</td>\n",
       "      <td>ATM Software Engineer (Level III)</td>\n",
       "      <td>Frisco, TX</td>\n",
       "      <td>$69K - $107K (Glassdoor est.)</td>\n",
       "      <td>69000</td>\n",
       "      <td>107000</td>\n",
       "      <td>Glassdoor</td>\n",
       "      <td>88000.0</td>\n",
       "      <td>30.0</td>\n",
       "    </tr>\n",
       "    <tr>\n",
       "      <th>763</th>\n",
       "      <td>Genesys</td>\n",
       "      <td>3.6</td>\n",
       "      <td>Software Engineer</td>\n",
       "      <td>Mount Laurel, NJ</td>\n",
       "      <td>$95K - $143K (Employer est.)</td>\n",
       "      <td>95000</td>\n",
       "      <td>143000</td>\n",
       "      <td>Employer</td>\n",
       "      <td>119000.0</td>\n",
       "      <td>30.0</td>\n",
       "    </tr>\n",
       "  </tbody>\n",
       "</table>\n",
       "<p>764 rows × 10 columns</p>\n",
       "</div>"
      ],
      "text/plain": [
       "                           Company  Company Score  \\\n",
       "0                         ViewSoft            4.8   \n",
       "1                          Workiva            4.3   \n",
       "2       Garmin International, Inc.            3.9   \n",
       "3                         Snapchat            3.5   \n",
       "4    Vitesco Technologies Group AG            3.1   \n",
       "..                             ...            ...   \n",
       "759                         OpenAI            3.1   \n",
       "760                     NCR Atleos            3.9   \n",
       "761  Electronic Warfare Associates            3.8   \n",
       "762                   BillGO, Inc.            3.3   \n",
       "763                        Genesys            3.6   \n",
       "\n",
       "                                             Job Title           Location  \\\n",
       "0                                    Software Engineer       Manassas, VA   \n",
       "1                            Software Support Engineer             Remote   \n",
       "2                                 C# Software Engineer           Cary, NC   \n",
       "3    Software Engineer, Fullstack, 1+ Years of Expe...    Los Angeles, CA   \n",
       "4                                    Software Engineer         Seguin, TX   \n",
       "..                                                 ...                ...   \n",
       "759                   Apprentice ETL Software Engineer       Elkridge, MD   \n",
       "760  Software Engineer, Tool & Infrastructure, Reli...      Palo Alto, CA   \n",
       "761        Software Engineer, Engineering Acceleration  San Francisco, CA   \n",
       "762                  ATM Software Engineer (Level III)         Frisco, TX   \n",
       "763                                  Software Engineer   Mount Laurel, NJ   \n",
       "\n",
       "                            Salary     min     max EstimatedBy  avgSalary  \\\n",
       "0     $68K - $94K (Glassdoor est.)   68000   94000   Glassdoor    81000.0   \n",
       "1     $61K - $104K (Employer est.)   61000  104000    Employer    82500.0   \n",
       "2    $95K - $118K (Glassdoor est.)   95000  118000   Glassdoor   106500.0   \n",
       "3     $97K - $145K (Employer est.)   97000  145000    Employer   121000.0   \n",
       "4    $85K - $108K (Glassdoor est.)   85000  108000   Glassdoor    96500.0   \n",
       "..                             ...     ...     ...         ...        ...   \n",
       "759  $160K - $385K (Employer est.)  160000  385000    Employer   272500.0   \n",
       "760          $222K (Employer est.)  222000  222000    Employer   222000.0   \n",
       "761  $82K - $118K (Glassdoor est.)   82000  118000   Glassdoor   100000.0   \n",
       "762  $69K - $107K (Glassdoor est.)   69000  107000   Glassdoor    88000.0   \n",
       "763   $95K - $143K (Employer est.)   95000  143000    Employer   119000.0   \n",
       "\n",
       "     recency  \n",
       "0        8.0  \n",
       "1        2.0  \n",
       "2        2.0  \n",
       "3        2.0  \n",
       "4        2.0  \n",
       "..       ...  \n",
       "759     30.0  \n",
       "760      1.0  \n",
       "761      5.0  \n",
       "762     30.0  \n",
       "763     30.0  \n",
       "\n",
       "[764 rows x 10 columns]"
      ]
     },
     "execution_count": 40,
     "metadata": {},
     "output_type": "execute_result"
    }
   ],
   "source": [
    "dataset.drop('Date',axis =1) ## dropping date as information is maintained using recency"
   ]
  },
  {
   "cell_type": "code",
   "execution_count": 41,
   "id": "8a80482f",
   "metadata": {},
   "outputs": [
    {
     "data": {
      "text/html": [
       "<div>\n",
       "<style scoped>\n",
       "    .dataframe tbody tr th:only-of-type {\n",
       "        vertical-align: middle;\n",
       "    }\n",
       "\n",
       "    .dataframe tbody tr th {\n",
       "        vertical-align: top;\n",
       "    }\n",
       "\n",
       "    .dataframe thead th {\n",
       "        text-align: right;\n",
       "    }\n",
       "</style>\n",
       "<table border=\"1\" class=\"dataframe\">\n",
       "  <thead>\n",
       "    <tr style=\"text-align: right;\">\n",
       "      <th></th>\n",
       "      <th>Company</th>\n",
       "      <th>Company Score</th>\n",
       "      <th>Job Title</th>\n",
       "      <th>Location</th>\n",
       "      <th>Date</th>\n",
       "      <th>Salary</th>\n",
       "      <th>min</th>\n",
       "      <th>max</th>\n",
       "      <th>EstimatedBy</th>\n",
       "      <th>avgSalary</th>\n",
       "      <th>recency</th>\n",
       "    </tr>\n",
       "  </thead>\n",
       "  <tbody>\n",
       "    <tr>\n",
       "      <th>0</th>\n",
       "      <td>ViewSoft</td>\n",
       "      <td>4.8</td>\n",
       "      <td>Software Engineer</td>\n",
       "      <td>Manassas, VA</td>\n",
       "      <td>8d</td>\n",
       "      <td>$68K - $94K (Glassdoor est.)</td>\n",
       "      <td>68000</td>\n",
       "      <td>94000</td>\n",
       "      <td>Glassdoor</td>\n",
       "      <td>81000.0</td>\n",
       "      <td>8.0</td>\n",
       "    </tr>\n",
       "    <tr>\n",
       "      <th>1</th>\n",
       "      <td>Workiva</td>\n",
       "      <td>4.3</td>\n",
       "      <td>Software Support Engineer</td>\n",
       "      <td>Remote</td>\n",
       "      <td>2d</td>\n",
       "      <td>$61K - $104K (Employer est.)</td>\n",
       "      <td>61000</td>\n",
       "      <td>104000</td>\n",
       "      <td>Employer</td>\n",
       "      <td>82500.0</td>\n",
       "      <td>2.0</td>\n",
       "    </tr>\n",
       "    <tr>\n",
       "      <th>2</th>\n",
       "      <td>Garmin International, Inc.</td>\n",
       "      <td>3.9</td>\n",
       "      <td>C# Software Engineer</td>\n",
       "      <td>Cary, NC</td>\n",
       "      <td>2d</td>\n",
       "      <td>$95K - $118K (Glassdoor est.)</td>\n",
       "      <td>95000</td>\n",
       "      <td>118000</td>\n",
       "      <td>Glassdoor</td>\n",
       "      <td>106500.0</td>\n",
       "      <td>2.0</td>\n",
       "    </tr>\n",
       "    <tr>\n",
       "      <th>3</th>\n",
       "      <td>Snapchat</td>\n",
       "      <td>3.5</td>\n",
       "      <td>Software Engineer, Fullstack, 1+ Years of Expe...</td>\n",
       "      <td>Los Angeles, CA</td>\n",
       "      <td>2d</td>\n",
       "      <td>$97K - $145K (Employer est.)</td>\n",
       "      <td>97000</td>\n",
       "      <td>145000</td>\n",
       "      <td>Employer</td>\n",
       "      <td>121000.0</td>\n",
       "      <td>2.0</td>\n",
       "    </tr>\n",
       "    <tr>\n",
       "      <th>4</th>\n",
       "      <td>Vitesco Technologies Group AG</td>\n",
       "      <td>3.1</td>\n",
       "      <td>Software Engineer</td>\n",
       "      <td>Seguin, TX</td>\n",
       "      <td>2d</td>\n",
       "      <td>$85K - $108K (Glassdoor est.)</td>\n",
       "      <td>85000</td>\n",
       "      <td>108000</td>\n",
       "      <td>Glassdoor</td>\n",
       "      <td>96500.0</td>\n",
       "      <td>2.0</td>\n",
       "    </tr>\n",
       "  </tbody>\n",
       "</table>\n",
       "</div>"
      ],
      "text/plain": [
       "                         Company  Company Score  \\\n",
       "0                       ViewSoft            4.8   \n",
       "1                        Workiva            4.3   \n",
       "2     Garmin International, Inc.            3.9   \n",
       "3                       Snapchat            3.5   \n",
       "4  Vitesco Technologies Group AG            3.1   \n",
       "\n",
       "                                           Job Title         Location Date  \\\n",
       "0                                  Software Engineer     Manassas, VA   8d   \n",
       "1                          Software Support Engineer           Remote   2d   \n",
       "2                               C# Software Engineer         Cary, NC   2d   \n",
       "3  Software Engineer, Fullstack, 1+ Years of Expe...  Los Angeles, CA   2d   \n",
       "4                                  Software Engineer       Seguin, TX   2d   \n",
       "\n",
       "                          Salary    min     max EstimatedBy  avgSalary  \\\n",
       "0   $68K - $94K (Glassdoor est.)  68000   94000   Glassdoor    81000.0   \n",
       "1   $61K - $104K (Employer est.)  61000  104000    Employer    82500.0   \n",
       "2  $95K - $118K (Glassdoor est.)  95000  118000   Glassdoor   106500.0   \n",
       "3   $97K - $145K (Employer est.)  97000  145000    Employer   121000.0   \n",
       "4  $85K - $108K (Glassdoor est.)  85000  108000   Glassdoor    96500.0   \n",
       "\n",
       "   recency  \n",
       "0      8.0  \n",
       "1      2.0  \n",
       "2      2.0  \n",
       "3      2.0  \n",
       "4      2.0  "
      ]
     },
     "execution_count": 41,
     "metadata": {},
     "output_type": "execute_result"
    }
   ],
   "source": [
    "dataset.head() ## displaying records after cleaning"
   ]
  },
  {
   "cell_type": "code",
   "execution_count": 42,
   "id": "c2a5d518",
   "metadata": {},
   "outputs": [
    {
     "data": {
      "text/html": [
       "<div>\n",
       "<style scoped>\n",
       "    .dataframe tbody tr th:only-of-type {\n",
       "        vertical-align: middle;\n",
       "    }\n",
       "\n",
       "    .dataframe tbody tr th {\n",
       "        vertical-align: top;\n",
       "    }\n",
       "\n",
       "    .dataframe thead th {\n",
       "        text-align: right;\n",
       "    }\n",
       "</style>\n",
       "<table border=\"1\" class=\"dataframe\">\n",
       "  <thead>\n",
       "    <tr style=\"text-align: right;\">\n",
       "      <th></th>\n",
       "      <th>Company</th>\n",
       "      <th>Company Score</th>\n",
       "      <th>Job Title</th>\n",
       "      <th>Location</th>\n",
       "      <th>Date</th>\n",
       "      <th>Salary</th>\n",
       "      <th>min</th>\n",
       "      <th>max</th>\n",
       "      <th>EstimatedBy</th>\n",
       "      <th>avgSalary</th>\n",
       "      <th>recency</th>\n",
       "    </tr>\n",
       "  </thead>\n",
       "  <tbody>\n",
       "  </tbody>\n",
       "</table>\n",
       "</div>"
      ],
      "text/plain": [
       "Empty DataFrame\n",
       "Columns: [Company, Company Score, Job Title, Location, Date, Salary, min, max, EstimatedBy, avgSalary, recency]\n",
       "Index: []"
      ]
     },
     "execution_count": 42,
     "metadata": {},
     "output_type": "execute_result"
    }
   ],
   "source": [
    "dataset[dataset[\"recency\"].isnull()]"
   ]
  },
  {
   "cell_type": "code",
   "execution_count": 43,
   "id": "b04d7b0e",
   "metadata": {},
   "outputs": [
    {
     "data": {
      "text/html": [
       "<div>\n",
       "<style scoped>\n",
       "    .dataframe tbody tr th:only-of-type {\n",
       "        vertical-align: middle;\n",
       "    }\n",
       "\n",
       "    .dataframe tbody tr th {\n",
       "        vertical-align: top;\n",
       "    }\n",
       "\n",
       "    .dataframe thead th {\n",
       "        text-align: right;\n",
       "    }\n",
       "</style>\n",
       "<table border=\"1\" class=\"dataframe\">\n",
       "  <thead>\n",
       "    <tr style=\"text-align: right;\">\n",
       "      <th></th>\n",
       "      <th>Company</th>\n",
       "      <th>Company Score</th>\n",
       "      <th>Job Title</th>\n",
       "      <th>Location</th>\n",
       "      <th>Date</th>\n",
       "      <th>Salary</th>\n",
       "      <th>min</th>\n",
       "      <th>max</th>\n",
       "      <th>EstimatedBy</th>\n",
       "      <th>avgSalary</th>\n",
       "      <th>recency</th>\n",
       "    </tr>\n",
       "  </thead>\n",
       "  <tbody>\n",
       "    <tr>\n",
       "      <th>157</th>\n",
       "      <td>Intuitive Machines LLC</td>\n",
       "      <td>3.8</td>\n",
       "      <td>Research Software Engineer</td>\n",
       "      <td>Houston, TX</td>\n",
       "      <td>10d</td>\n",
       "      <td>$295K - $440K (Employer est.)</td>\n",
       "      <td>295000</td>\n",
       "      <td>440000</td>\n",
       "      <td>Employer</td>\n",
       "      <td>367500.0</td>\n",
       "      <td>10.0</td>\n",
       "    </tr>\n",
       "    <tr>\n",
       "      <th>526</th>\n",
       "      <td>BOEING</td>\n",
       "      <td>4.0</td>\n",
       "      <td>Senior Software Engineer</td>\n",
       "      <td>Washington, DC</td>\n",
       "      <td>30d+</td>\n",
       "      <td>$343K - $637K (Employer est.)</td>\n",
       "      <td>343000</td>\n",
       "      <td>637000</td>\n",
       "      <td>Employer</td>\n",
       "      <td>490000.0</td>\n",
       "      <td>30.0</td>\n",
       "    </tr>\n",
       "    <tr>\n",
       "      <th>578</th>\n",
       "      <td>INTEL</td>\n",
       "      <td>5.0</td>\n",
       "      <td>Software Engineer 2 - Mainframe (Cobol, JCL, V...</td>\n",
       "      <td>Brookfield, WI</td>\n",
       "      <td>12d</td>\n",
       "      <td>$310K - $465K (Employer est.)</td>\n",
       "      <td>310000</td>\n",
       "      <td>465000</td>\n",
       "      <td>Employer</td>\n",
       "      <td>387500.0</td>\n",
       "      <td>12.0</td>\n",
       "    </tr>\n",
       "    <tr>\n",
       "      <th>668</th>\n",
       "      <td>Workday</td>\n",
       "      <td>4.0</td>\n",
       "      <td>Software Engineer - Camera (Technical Leadership)</td>\n",
       "      <td>Redmond, WA</td>\n",
       "      <td>3d</td>\n",
       "      <td>$300K - $450K (Employer est.)</td>\n",
       "      <td>300000</td>\n",
       "      <td>450000</td>\n",
       "      <td>Employer</td>\n",
       "      <td>375000.0</td>\n",
       "      <td>3.0</td>\n",
       "    </tr>\n",
       "    <tr>\n",
       "      <th>743</th>\n",
       "      <td>Teradyne</td>\n",
       "      <td>3.6</td>\n",
       "      <td>Software Engineer (Onsite)</td>\n",
       "      <td>Columbia, MD</td>\n",
       "      <td>25d</td>\n",
       "      <td>$248K - $385K (Employer est.)</td>\n",
       "      <td>248000</td>\n",
       "      <td>385000</td>\n",
       "      <td>Employer</td>\n",
       "      <td>316500.0</td>\n",
       "      <td>25.0</td>\n",
       "    </tr>\n",
       "  </tbody>\n",
       "</table>\n",
       "</div>"
      ],
      "text/plain": [
       "                    Company  Company Score  \\\n",
       "157  Intuitive Machines LLC            3.8   \n",
       "526                  BOEING            4.0   \n",
       "578                   INTEL            5.0   \n",
       "668                 Workday            4.0   \n",
       "743                Teradyne            3.6   \n",
       "\n",
       "                                             Job Title        Location  Date  \\\n",
       "157                         Research Software Engineer     Houston, TX   10d   \n",
       "526                           Senior Software Engineer  Washington, DC  30d+   \n",
       "578  Software Engineer 2 - Mainframe (Cobol, JCL, V...  Brookfield, WI   12d   \n",
       "668  Software Engineer - Camera (Technical Leadership)     Redmond, WA    3d   \n",
       "743                         Software Engineer (Onsite)    Columbia, MD   25d   \n",
       "\n",
       "                            Salary     min     max EstimatedBy  avgSalary  \\\n",
       "157  $295K - $440K (Employer est.)  295000  440000    Employer   367500.0   \n",
       "526  $343K - $637K (Employer est.)  343000  637000    Employer   490000.0   \n",
       "578  $310K - $465K (Employer est.)  310000  465000    Employer   387500.0   \n",
       "668  $300K - $450K (Employer est.)  300000  450000    Employer   375000.0   \n",
       "743  $248K - $385K (Employer est.)  248000  385000    Employer   316500.0   \n",
       "\n",
       "     recency  \n",
       "157     10.0  \n",
       "526     30.0  \n",
       "578     12.0  \n",
       "668      3.0  \n",
       "743     25.0  "
      ]
     },
     "execution_count": 43,
     "metadata": {},
     "output_type": "execute_result"
    }
   ],
   "source": [
    "dataset[dataset['avgSalary']>300000]"
   ]
  },
  {
   "cell_type": "code",
   "execution_count": 44,
   "id": "de243772",
   "metadata": {},
   "outputs": [],
   "source": [
    "#dataset[~dataset['Job Title'].str.contains('Software Engineer')]"
   ]
  },
  {
   "cell_type": "code",
   "execution_count": 45,
   "id": "8bc2fa3c",
   "metadata": {},
   "outputs": [
    {
     "data": {
      "text/plain": [
       "'\\ndef Jobrole(x):\\n    x = x.lower()\\n    if \\'intern\\' in x:\\n        return \"Software Intern\"\\n    \\n    elif \"engineer\" in x and \"data\" not in x:\\n        if \"entry\" in x and \"senior\" in x:\\n            return \"Mid-Level Engineer\"\\n        elif \"senior\" in x or \"iii\" in x or \"sr\" in x or \"sr.\" in x:\\n            return \"Senior Engineer\"\\n        elif \"junior\" in x or \"entry\" in x or \"jr\" in x or \"jr.\" in x:\\n            return \"Junior Engineer\"\\n        else:\\n            return \"Mid-Level Engineer\"\\n        \\n    elif \"scientist\" in x or \"analyst\" in x and \"data\" in x:\\n        if \"entry\" in x and \"senior\" in x:\\n            return \"Mid-Level Data Scientist/Analyst\"\\n        elif \"senior\" in x or \"iii\" in x or \"sr\" in x or \"sr.\" in x:\\n            return \"Senior Data Scientist/Analyst\"\\n        elif \"junior\" in x or \"entry\" in x  or \"jr\" in x or \"jr.\" in x:\\n            return \"Junior Data Scientist/Analyst\"\\n        else:\\n            return \"Mid-Level Data Scientist/Analyst\"\\n        \\n    elif \"devops\" in x:\\n        if \"entry\" in x and \"senior\" in x:\\n            return \"Mid-Level DevOps Engineer\"\\n        elif \"senior\" in x or \"iii\" in x or \"sr\" in x or \"sr.\" in x:\\n            return \"Senior DevOps Engineer\"\\n        elif \"junior\" in x or \"entry\" in x  or \"jr\" in x or \\'jr.\\' in x:\\n            return \"Junior DevOps Engineer\"\\n        else:\\n            return \"Mid-Level DevOps Engineer\"\\n    \\n        \\n    elif \"engineer\" in x and \"data\" in x:\\n        if \"entry\" in x and \"senior\" in x:\\n            return \"Mid-Level Data Engineer\"\\n        elif \"senior\" in x or \"iii\" in x or \"sr\" in x or \"sr.\" in x:\\n            return \"Senior Data Engineer\"\\n        elif \"junior\" in x or \"entry\" in x  or \"jr\" in x or \"jr.\" in x:\\n            return \"Junior Data Engineer\"\\n        else:\\n            return \"Mid-Level Data Engineer\"\\n        \\n    elif \"developer\" in x or \"programmer\" in x or \\'dev\\' in x:\\n        if \"entry\" in x and \"senior\" in x:\\n            return \"Mid-Level Developer\"\\n        elif \"senior\" in x or \"iii\" in x or  \"sr\" in x or \"sr.\" in x:\\n            return \"Senior Developer\"\\n        elif \"junior\" in x or \"entry\" in x or \"jr\" in x or \"jr.\" in x:\\n            return \"Junior Developer\"\\n        else:\\n            return \"Mid-Level Developer\"\\n    else:\\n        return x\\n'"
      ]
     },
     "execution_count": 45,
     "metadata": {},
     "output_type": "execute_result"
    }
   ],
   "source": [
    "'''\n",
    "def Jobrole(x):\n",
    "    x = x.lower()\n",
    "    if 'intern' in x:\n",
    "        return \"Software Intern\"\n",
    "    \n",
    "    elif \"engineer\" in x and \"data\" not in x:\n",
    "        if \"entry\" in x and \"senior\" in x:\n",
    "            return \"Mid-Level Engineer\"\n",
    "        elif \"senior\" in x or \"iii\" in x or \"sr\" in x or \"sr.\" in x:\n",
    "            return \"Senior Engineer\"\n",
    "        elif \"junior\" in x or \"entry\" in x or \"jr\" in x or \"jr.\" in x:\n",
    "            return \"Junior Engineer\"\n",
    "        else:\n",
    "            return \"Mid-Level Engineer\"\n",
    "        \n",
    "    elif \"scientist\" in x or \"analyst\" in x and \"data\" in x:\n",
    "        if \"entry\" in x and \"senior\" in x:\n",
    "            return \"Mid-Level Data Scientist/Analyst\"\n",
    "        elif \"senior\" in x or \"iii\" in x or \"sr\" in x or \"sr.\" in x:\n",
    "            return \"Senior Data Scientist/Analyst\"\n",
    "        elif \"junior\" in x or \"entry\" in x  or \"jr\" in x or \"jr.\" in x:\n",
    "            return \"Junior Data Scientist/Analyst\"\n",
    "        else:\n",
    "            return \"Mid-Level Data Scientist/Analyst\"\n",
    "        \n",
    "    elif \"devops\" in x:\n",
    "        if \"entry\" in x and \"senior\" in x:\n",
    "            return \"Mid-Level DevOps Engineer\"\n",
    "        elif \"senior\" in x or \"iii\" in x or \"sr\" in x or \"sr.\" in x:\n",
    "            return \"Senior DevOps Engineer\"\n",
    "        elif \"junior\" in x or \"entry\" in x  or \"jr\" in x or 'jr.' in x:\n",
    "            return \"Junior DevOps Engineer\"\n",
    "        else:\n",
    "            return \"Mid-Level DevOps Engineer\"\n",
    "    \n",
    "        \n",
    "    elif \"engineer\" in x and \"data\" in x:\n",
    "        if \"entry\" in x and \"senior\" in x:\n",
    "            return \"Mid-Level Data Engineer\"\n",
    "        elif \"senior\" in x or \"iii\" in x or \"sr\" in x or \"sr.\" in x:\n",
    "            return \"Senior Data Engineer\"\n",
    "        elif \"junior\" in x or \"entry\" in x  or \"jr\" in x or \"jr.\" in x:\n",
    "            return \"Junior Data Engineer\"\n",
    "        else:\n",
    "            return \"Mid-Level Data Engineer\"\n",
    "        \n",
    "    elif \"developer\" in x or \"programmer\" in x or 'dev' in x:\n",
    "        if \"entry\" in x and \"senior\" in x:\n",
    "            return \"Mid-Level Developer\"\n",
    "        elif \"senior\" in x or \"iii\" in x or  \"sr\" in x or \"sr.\" in x:\n",
    "            return \"Senior Developer\"\n",
    "        elif \"junior\" in x or \"entry\" in x or \"jr\" in x or \"jr.\" in x:\n",
    "            return \"Junior Developer\"\n",
    "        else:\n",
    "            return \"Mid-Level Developer\"\n",
    "    else:\n",
    "        return x\n",
    "'''"
   ]
  },
  {
   "cell_type": "code",
   "execution_count": 46,
   "id": "9039e76c",
   "metadata": {},
   "outputs": [],
   "source": [
    "def job_role(title):\n",
    "    title = title.lower()\n",
    "\n",
    "    roles = {\n",
    "        \"intern\": \"Software Intern\",\n",
    "        \"co-op\" : \"Software Intern\",\n",
    "        \"engineer\": {\n",
    "            \"data\": \"Data Engineer\",\n",
    "            \"other\": \"Engineer\"\n",
    "        },\n",
    "        \"scientist\": \"Data Scientist\",\n",
    "        \"devops\": \"DevOps Engineer\",\n",
    "        \"developer\": \"Developer\",\n",
    "        \"dev\": \"Developer\",\n",
    "        \"programmer\": \"Developer\",\n",
    "        \"analyst\": \"Data Analyst\"\n",
    "    }\n",
    "\n",
    "    seniority_levels = {\n",
    "        \"entry\": \"Junior\",\n",
    "        \"junior\": \"Junior\",\n",
    "        \"jr\":\"Junior\",\n",
    "        \"jr.\" : \"Junior\",\n",
    "        \"mid\": \"Mid-Level\",\n",
    "        \"senior\": \"Senior\",\n",
    "        \"sr\":\"Senior\",\n",
    "        \"sr.\":\"Senior\"\n",
    "    }\n",
    "\n",
    "    for key, role in roles.items():\n",
    "        if key in title:\n",
    "            if key ==\"intern\" or key ==\"co-op\":\n",
    "                return role\n",
    "            elif key == \"engineer\" and \"data\" in title:\n",
    "                base_role = roles[key][\"data\"]\n",
    "            elif key == \"engineer\":\n",
    "                base_role = roles[key][\"other\"]\n",
    "            else:\n",
    "                base_role = role\n",
    "            \n",
    "            # Determine seniority\n",
    "            for level in seniority_levels:\n",
    "                if level in title:\n",
    "                    return f\"{seniority_levels[level]} {base_role}\"\n",
    "            \n",
    "            # Default to Mid-Level if no seniority level matched\n",
    "            return f\"Mid-Level {base_role}\"\n",
    "\n",
    "    return title  # Return original title if no match found\n"
   ]
  },
  {
   "cell_type": "code",
   "execution_count": 47,
   "id": "1b187b2b",
   "metadata": {},
   "outputs": [],
   "source": [
    "dataset['JobRole']= dataset['Job Title'].apply(job_role)"
   ]
  },
  {
   "cell_type": "code",
   "execution_count": 48,
   "id": "5f8c3011",
   "metadata": {},
   "outputs": [
    {
     "data": {
      "text/html": [
       "<div>\n",
       "<style scoped>\n",
       "    .dataframe tbody tr th:only-of-type {\n",
       "        vertical-align: middle;\n",
       "    }\n",
       "\n",
       "    .dataframe tbody tr th {\n",
       "        vertical-align: top;\n",
       "    }\n",
       "\n",
       "    .dataframe thead th {\n",
       "        text-align: right;\n",
       "    }\n",
       "</style>\n",
       "<table border=\"1\" class=\"dataframe\">\n",
       "  <thead>\n",
       "    <tr style=\"text-align: right;\">\n",
       "      <th></th>\n",
       "      <th>Company</th>\n",
       "      <th>Company Score</th>\n",
       "      <th>Job Title</th>\n",
       "      <th>Location</th>\n",
       "      <th>Date</th>\n",
       "      <th>Salary</th>\n",
       "      <th>min</th>\n",
       "      <th>max</th>\n",
       "      <th>EstimatedBy</th>\n",
       "      <th>avgSalary</th>\n",
       "      <th>recency</th>\n",
       "      <th>JobRole</th>\n",
       "    </tr>\n",
       "  </thead>\n",
       "  <tbody>\n",
       "    <tr>\n",
       "      <th>0</th>\n",
       "      <td>ViewSoft</td>\n",
       "      <td>4.8</td>\n",
       "      <td>Software Engineer</td>\n",
       "      <td>Manassas, VA</td>\n",
       "      <td>8d</td>\n",
       "      <td>$68K - $94K (Glassdoor est.)</td>\n",
       "      <td>68000</td>\n",
       "      <td>94000</td>\n",
       "      <td>Glassdoor</td>\n",
       "      <td>81000.0</td>\n",
       "      <td>8.0</td>\n",
       "      <td>Mid-Level Engineer</td>\n",
       "    </tr>\n",
       "    <tr>\n",
       "      <th>1</th>\n",
       "      <td>Workiva</td>\n",
       "      <td>4.3</td>\n",
       "      <td>Software Support Engineer</td>\n",
       "      <td>Remote</td>\n",
       "      <td>2d</td>\n",
       "      <td>$61K - $104K (Employer est.)</td>\n",
       "      <td>61000</td>\n",
       "      <td>104000</td>\n",
       "      <td>Employer</td>\n",
       "      <td>82500.0</td>\n",
       "      <td>2.0</td>\n",
       "      <td>Mid-Level Engineer</td>\n",
       "    </tr>\n",
       "    <tr>\n",
       "      <th>2</th>\n",
       "      <td>Garmin International, Inc.</td>\n",
       "      <td>3.9</td>\n",
       "      <td>C# Software Engineer</td>\n",
       "      <td>Cary, NC</td>\n",
       "      <td>2d</td>\n",
       "      <td>$95K - $118K (Glassdoor est.)</td>\n",
       "      <td>95000</td>\n",
       "      <td>118000</td>\n",
       "      <td>Glassdoor</td>\n",
       "      <td>106500.0</td>\n",
       "      <td>2.0</td>\n",
       "      <td>Mid-Level Engineer</td>\n",
       "    </tr>\n",
       "    <tr>\n",
       "      <th>3</th>\n",
       "      <td>Snapchat</td>\n",
       "      <td>3.5</td>\n",
       "      <td>Software Engineer, Fullstack, 1+ Years of Expe...</td>\n",
       "      <td>Los Angeles, CA</td>\n",
       "      <td>2d</td>\n",
       "      <td>$97K - $145K (Employer est.)</td>\n",
       "      <td>97000</td>\n",
       "      <td>145000</td>\n",
       "      <td>Employer</td>\n",
       "      <td>121000.0</td>\n",
       "      <td>2.0</td>\n",
       "      <td>Mid-Level Engineer</td>\n",
       "    </tr>\n",
       "    <tr>\n",
       "      <th>4</th>\n",
       "      <td>Vitesco Technologies Group AG</td>\n",
       "      <td>3.1</td>\n",
       "      <td>Software Engineer</td>\n",
       "      <td>Seguin, TX</td>\n",
       "      <td>2d</td>\n",
       "      <td>$85K - $108K (Glassdoor est.)</td>\n",
       "      <td>85000</td>\n",
       "      <td>108000</td>\n",
       "      <td>Glassdoor</td>\n",
       "      <td>96500.0</td>\n",
       "      <td>2.0</td>\n",
       "      <td>Mid-Level Engineer</td>\n",
       "    </tr>\n",
       "  </tbody>\n",
       "</table>\n",
       "</div>"
      ],
      "text/plain": [
       "                         Company  Company Score  \\\n",
       "0                       ViewSoft            4.8   \n",
       "1                        Workiva            4.3   \n",
       "2     Garmin International, Inc.            3.9   \n",
       "3                       Snapchat            3.5   \n",
       "4  Vitesco Technologies Group AG            3.1   \n",
       "\n",
       "                                           Job Title         Location Date  \\\n",
       "0                                  Software Engineer     Manassas, VA   8d   \n",
       "1                          Software Support Engineer           Remote   2d   \n",
       "2                               C# Software Engineer         Cary, NC   2d   \n",
       "3  Software Engineer, Fullstack, 1+ Years of Expe...  Los Angeles, CA   2d   \n",
       "4                                  Software Engineer       Seguin, TX   2d   \n",
       "\n",
       "                          Salary    min     max EstimatedBy  avgSalary  \\\n",
       "0   $68K - $94K (Glassdoor est.)  68000   94000   Glassdoor    81000.0   \n",
       "1   $61K - $104K (Employer est.)  61000  104000    Employer    82500.0   \n",
       "2  $95K - $118K (Glassdoor est.)  95000  118000   Glassdoor   106500.0   \n",
       "3   $97K - $145K (Employer est.)  97000  145000    Employer   121000.0   \n",
       "4  $85K - $108K (Glassdoor est.)  85000  108000   Glassdoor    96500.0   \n",
       "\n",
       "   recency             JobRole  \n",
       "0      8.0  Mid-Level Engineer  \n",
       "1      2.0  Mid-Level Engineer  \n",
       "2      2.0  Mid-Level Engineer  \n",
       "3      2.0  Mid-Level Engineer  \n",
       "4      2.0  Mid-Level Engineer  "
      ]
     },
     "execution_count": 48,
     "metadata": {},
     "output_type": "execute_result"
    }
   ],
   "source": [
    "dataset.head()"
   ]
  },
  {
   "cell_type": "code",
   "execution_count": 49,
   "id": "61923570",
   "metadata": {},
   "outputs": [
    {
     "data": {
      "text/plain": [
       "10"
      ]
     },
     "execution_count": 49,
     "metadata": {},
     "output_type": "execute_result"
    }
   ],
   "source": [
    "dataset['JobRole'].nunique()"
   ]
  },
  {
   "cell_type": "code",
   "execution_count": 50,
   "id": "a0914b5d",
   "metadata": {},
   "outputs": [
    {
     "data": {
      "text/plain": [
       "array(['Mid-Level Engineer', 'Mid-Level Developer', 'Senior Engineer',\n",
       "       'Junior Developer', 'Junior Engineer', 'Mid-Level Data Engineer',\n",
       "       'node js', 'Senior Data Engineer', 'Software Intern',\n",
       "       'shopify webmaster'], dtype=object)"
      ]
     },
     "execution_count": 50,
     "metadata": {},
     "output_type": "execute_result"
    }
   ],
   "source": [
    "dataset['JobRole'].unique()"
   ]
  },
  {
   "cell_type": "code",
   "execution_count": 51,
   "id": "1a09418d",
   "metadata": {},
   "outputs": [
    {
     "data": {
      "text/plain": [
       "JobRole\n",
       "Mid-Level Engineer         559\n",
       "Senior Engineer            108\n",
       "Mid-Level Developer         45\n",
       "Junior Engineer             24\n",
       "Mid-Level Data Engineer      9\n",
       "Junior Developer             8\n",
       "Software Intern              5\n",
       "Senior Data Engineer         4\n",
       "node js                      1\n",
       "shopify webmaster            1\n",
       "Name: count, dtype: int64"
      ]
     },
     "execution_count": 51,
     "metadata": {},
     "output_type": "execute_result"
    }
   ],
   "source": [
    "dataset['JobRole'].value_counts()"
   ]
  },
  {
   "cell_type": "code",
   "execution_count": 52,
   "id": "29944308",
   "metadata": {},
   "outputs": [
    {
     "data": {
      "text/plain": [
       "'\\nJobRole\\nMid-Level Engineer               539\\nSenior Engineer                  121\\nMid-Level Developer               47\\nJunior Engineer                   23\\nMid-Level Data Engineer            9\\nJunior Developer                   6\\nSenior Data Engineer               4\\nnode js                            1\\nSoftware Intern                    1\\nshopify webmaster                  1\\nco-op: software (spring 2025)      1\\n'"
      ]
     },
     "execution_count": 52,
     "metadata": {},
     "output_type": "execute_result"
    }
   ],
   "source": [
    "'''\n",
    "JobRole\n",
    "Mid-Level Engineer               539\n",
    "Senior Engineer                  121\n",
    "Mid-Level Developer               47\n",
    "Junior Engineer                   23\n",
    "Mid-Level Data Engineer            9\n",
    "Junior Developer                   6\n",
    "Senior Data Engineer               4\n",
    "node js                            1\n",
    "Software Intern                    1\n",
    "shopify webmaster                  1\n",
    "co-op: software (spring 2025)      1\n",
    "'''"
   ]
  },
  {
   "cell_type": "code",
   "execution_count": 53,
   "id": "2c4bb83b",
   "metadata": {},
   "outputs": [
    {
     "data": {
      "text/html": [
       "<div>\n",
       "<style scoped>\n",
       "    .dataframe tbody tr th:only-of-type {\n",
       "        vertical-align: middle;\n",
       "    }\n",
       "\n",
       "    .dataframe tbody tr th {\n",
       "        vertical-align: top;\n",
       "    }\n",
       "\n",
       "    .dataframe thead th {\n",
       "        text-align: right;\n",
       "    }\n",
       "</style>\n",
       "<table border=\"1\" class=\"dataframe\">\n",
       "  <thead>\n",
       "    <tr style=\"text-align: right;\">\n",
       "      <th></th>\n",
       "      <th>Company</th>\n",
       "      <th>Company Score</th>\n",
       "      <th>Job Title</th>\n",
       "      <th>Location</th>\n",
       "      <th>Date</th>\n",
       "      <th>Salary</th>\n",
       "      <th>min</th>\n",
       "      <th>max</th>\n",
       "      <th>EstimatedBy</th>\n",
       "      <th>avgSalary</th>\n",
       "      <th>recency</th>\n",
       "      <th>JobRole</th>\n",
       "    </tr>\n",
       "  </thead>\n",
       "  <tbody>\n",
       "    <tr>\n",
       "      <th>197</th>\n",
       "      <td>The Wolf Works LLC</td>\n",
       "      <td>4.4</td>\n",
       "      <td>Node JS</td>\n",
       "      <td>Austin, TX</td>\n",
       "      <td>2d</td>\n",
       "      <td>$86K - $105K (Glassdoor est.)</td>\n",
       "      <td>86000</td>\n",
       "      <td>105000</td>\n",
       "      <td>Glassdoor</td>\n",
       "      <td>95500.0</td>\n",
       "      <td>2.0</td>\n",
       "      <td>node js</td>\n",
       "    </tr>\n",
       "  </tbody>\n",
       "</table>\n",
       "</div>"
      ],
      "text/plain": [
       "                Company  Company Score Job Title    Location Date  \\\n",
       "197  The Wolf Works LLC            4.4   Node JS  Austin, TX   2d   \n",
       "\n",
       "                            Salary    min     max EstimatedBy  avgSalary  \\\n",
       "197  $86K - $105K (Glassdoor est.)  86000  105000   Glassdoor    95500.0   \n",
       "\n",
       "     recency  JobRole  \n",
       "197      2.0  node js  "
      ]
     },
     "execution_count": 53,
     "metadata": {},
     "output_type": "execute_result"
    }
   ],
   "source": [
    "dataset[dataset['JobRole']== \"node js\"]"
   ]
  },
  {
   "cell_type": "code",
   "execution_count": 54,
   "id": "d3503e16",
   "metadata": {},
   "outputs": [],
   "source": [
    "i = dataset[dataset['JobRole']== \"node js\"].index"
   ]
  },
  {
   "cell_type": "code",
   "execution_count": 55,
   "id": "e08495ac",
   "metadata": {},
   "outputs": [],
   "source": [
    "dataset.loc[i[0],\"JobRole\"]= \"Mid-Level Developer\""
   ]
  },
  {
   "cell_type": "code",
   "execution_count": 56,
   "id": "0b0da77c",
   "metadata": {},
   "outputs": [
    {
     "data": {
      "text/plain": [
       "JobRole\n",
       "Mid-Level Engineer         559\n",
       "Senior Engineer            108\n",
       "Mid-Level Developer         46\n",
       "Junior Engineer             24\n",
       "Mid-Level Data Engineer      9\n",
       "Junior Developer             8\n",
       "Software Intern              5\n",
       "Senior Data Engineer         4\n",
       "shopify webmaster            1\n",
       "Name: count, dtype: int64"
      ]
     },
     "execution_count": 56,
     "metadata": {},
     "output_type": "execute_result"
    }
   ],
   "source": [
    "dataset['JobRole'].value_counts()"
   ]
  },
  {
   "cell_type": "code",
   "execution_count": 57,
   "id": "000c8651",
   "metadata": {},
   "outputs": [
    {
     "data": {
      "text/html": [
       "<div>\n",
       "<style scoped>\n",
       "    .dataframe tbody tr th:only-of-type {\n",
       "        vertical-align: middle;\n",
       "    }\n",
       "\n",
       "    .dataframe tbody tr th {\n",
       "        vertical-align: top;\n",
       "    }\n",
       "\n",
       "    .dataframe thead th {\n",
       "        text-align: right;\n",
       "    }\n",
       "</style>\n",
       "<table border=\"1\" class=\"dataframe\">\n",
       "  <thead>\n",
       "    <tr style=\"text-align: right;\">\n",
       "      <th></th>\n",
       "      <th>Company</th>\n",
       "      <th>Company Score</th>\n",
       "      <th>Job Title</th>\n",
       "      <th>Location</th>\n",
       "      <th>Date</th>\n",
       "      <th>Salary</th>\n",
       "      <th>min</th>\n",
       "      <th>max</th>\n",
       "      <th>EstimatedBy</th>\n",
       "      <th>avgSalary</th>\n",
       "      <th>recency</th>\n",
       "      <th>JobRole</th>\n",
       "    </tr>\n",
       "  </thead>\n",
       "  <tbody>\n",
       "  </tbody>\n",
       "</table>\n",
       "</div>"
      ],
      "text/plain": [
       "Empty DataFrame\n",
       "Columns: [Company, Company Score, Job Title, Location, Date, Salary, min, max, EstimatedBy, avgSalary, recency, JobRole]\n",
       "Index: []"
      ]
     },
     "execution_count": 57,
     "metadata": {},
     "output_type": "execute_result"
    }
   ],
   "source": [
    "dataset[dataset['JobRole']== \" Engineer\"]"
   ]
  },
  {
   "cell_type": "code",
   "execution_count": 58,
   "id": "30fedd5b",
   "metadata": {},
   "outputs": [
    {
     "data": {
      "text/html": [
       "<div>\n",
       "<style scoped>\n",
       "    .dataframe tbody tr th:only-of-type {\n",
       "        vertical-align: middle;\n",
       "    }\n",
       "\n",
       "    .dataframe tbody tr th {\n",
       "        vertical-align: top;\n",
       "    }\n",
       "\n",
       "    .dataframe thead th {\n",
       "        text-align: right;\n",
       "    }\n",
       "</style>\n",
       "<table border=\"1\" class=\"dataframe\">\n",
       "  <thead>\n",
       "    <tr style=\"text-align: right;\">\n",
       "      <th></th>\n",
       "      <th>Company</th>\n",
       "      <th>Company Score</th>\n",
       "      <th>Job Title</th>\n",
       "      <th>Location</th>\n",
       "      <th>Date</th>\n",
       "      <th>Salary</th>\n",
       "      <th>min</th>\n",
       "      <th>max</th>\n",
       "      <th>EstimatedBy</th>\n",
       "      <th>avgSalary</th>\n",
       "      <th>recency</th>\n",
       "      <th>JobRole</th>\n",
       "    </tr>\n",
       "  </thead>\n",
       "  <tbody>\n",
       "    <tr>\n",
       "      <th>486</th>\n",
       "      <td>Gopuff</td>\n",
       "      <td>3.2</td>\n",
       "      <td>Shopify Webmaster</td>\n",
       "      <td>Remote</td>\n",
       "      <td>3d</td>\n",
       "      <td>$90K - $125K (Employer est.)</td>\n",
       "      <td>90000</td>\n",
       "      <td>125000</td>\n",
       "      <td>Employer</td>\n",
       "      <td>107500.0</td>\n",
       "      <td>3.0</td>\n",
       "      <td>shopify webmaster</td>\n",
       "    </tr>\n",
       "  </tbody>\n",
       "</table>\n",
       "</div>"
      ],
      "text/plain": [
       "    Company  Company Score          Job Title Location Date  \\\n",
       "486  Gopuff            3.2  Shopify Webmaster   Remote   3d   \n",
       "\n",
       "                           Salary    min     max EstimatedBy  avgSalary  \\\n",
       "486  $90K - $125K (Employer est.)  90000  125000    Employer   107500.0   \n",
       "\n",
       "     recency            JobRole  \n",
       "486      3.0  shopify webmaster  "
      ]
     },
     "execution_count": 58,
     "metadata": {},
     "output_type": "execute_result"
    }
   ],
   "source": [
    "dataset[dataset['JobRole'].str.contains(\"shopify webmaster\")]"
   ]
  },
  {
   "cell_type": "code",
   "execution_count": 59,
   "id": "45ad0197",
   "metadata": {},
   "outputs": [],
   "source": [
    "i = dataset[dataset['JobRole'].str.contains(\"shopify webmaster\")].index"
   ]
  },
  {
   "cell_type": "code",
   "execution_count": 60,
   "id": "62a6dd6f",
   "metadata": {},
   "outputs": [],
   "source": [
    "dataset.loc[i[0],\"JobRole\"]= \"Mid-Level Engineer\""
   ]
  },
  {
   "cell_type": "code",
   "execution_count": 61,
   "id": "9fe03fbf",
   "metadata": {},
   "outputs": [
    {
     "data": {
      "text/plain": [
       "JobRole\n",
       "Mid-Level Engineer         560\n",
       "Senior Engineer            108\n",
       "Mid-Level Developer         46\n",
       "Junior Engineer             24\n",
       "Mid-Level Data Engineer      9\n",
       "Junior Developer             8\n",
       "Software Intern              5\n",
       "Senior Data Engineer         4\n",
       "Name: count, dtype: int64"
      ]
     },
     "execution_count": 61,
     "metadata": {},
     "output_type": "execute_result"
    }
   ],
   "source": [
    "dataset['JobRole'].value_counts()"
   ]
  },
  {
   "cell_type": "code",
   "execution_count": 62,
   "id": "79240d44",
   "metadata": {},
   "outputs": [
    {
     "data": {
      "text/plain": [
       "23"
      ]
     },
     "execution_count": 62,
     "metadata": {},
     "output_type": "execute_result"
    }
   ],
   "source": [
    "dataset['Job Title'].str.contains(\"Java\").sum()"
   ]
  },
  {
   "cell_type": "code",
   "execution_count": 63,
   "id": "4787a4af",
   "metadata": {},
   "outputs": [
    {
     "data": {
      "text/plain": [
       "10"
      ]
     },
     "execution_count": 63,
     "metadata": {},
     "output_type": "execute_result"
    }
   ],
   "source": [
    "dataset['Job Title'].str.contains(\"C#\").sum()"
   ]
  },
  {
   "cell_type": "code",
   "execution_count": 64,
   "id": "c4f2cbba",
   "metadata": {},
   "outputs": [
    {
     "data": {
      "text/plain": [
       "0           Manassas, VA\n",
       "1                 Remote\n",
       "2               Cary, NC\n",
       "3        Los Angeles, CA\n",
       "4             Seguin, TX\n",
       "             ...        \n",
       "759         Elkridge, MD\n",
       "760        Palo Alto, CA\n",
       "761    San Francisco, CA\n",
       "762           Frisco, TX\n",
       "763     Mount Laurel, NJ\n",
       "Name: Location, Length: 764, dtype: object"
      ]
     },
     "execution_count": 64,
     "metadata": {},
     "output_type": "execute_result"
    }
   ],
   "source": [
    "dataset['Location']"
   ]
  },
  {
   "cell_type": "code",
   "execution_count": 65,
   "id": "d9c77a80",
   "metadata": {},
   "outputs": [],
   "source": [
    "i = dataset[dataset['Location']==\"Township of Hamilton\"].index"
   ]
  },
  {
   "cell_type": "code",
   "execution_count": 66,
   "id": "75c6c0bf",
   "metadata": {},
   "outputs": [],
   "source": [
    "dataset.loc[i,'Location']=\"Township of Hamilton,NJ\""
   ]
  },
  {
   "cell_type": "code",
   "execution_count": 67,
   "id": "9ff9db5c",
   "metadata": {},
   "outputs": [],
   "source": [
    "state_abbreviations = {\n",
    "    # U.S. States\n",
    "    \"Alabama\": \"AL\", \"Alaska\": \"AK\", \"Arizona\": \"AZ\", \"Arkansas\": \"AR\", \"California\": \"CA\",\n",
    "    \"Colorado\": \"CO\", \"Connecticut\": \"CT\", \"Delaware\": \"DE\", \"Florida\": \"FL\", \"Georgia\": \"GA\",\n",
    "    \"Hawaii\": \"HI\", \"Idaho\": \"ID\", \"Illinois\": \"IL\", \"Indiana\": \"IN\", \"Iowa\": \"IA\",\n",
    "    \"Kansas\": \"KS\", \"Kentucky\": \"KY\", \"Louisiana\": \"LA\", \"Maine\": \"ME\", \"Maryland\": \"MD\",\n",
    "    \"Massachusetts\": \"MA\", \"Michigan\": \"MI\", \"Minnesota\": \"MN\", \"Mississippi\": \"MS\",\n",
    "    \"Missouri\": \"MO\", \"Montana\": \"MT\", \"Nebraska\": \"NE\", \"Nevada\": \"NV\", \"New Hampshire\": \"NH\",\n",
    "    \"New Jersey\": \"NJ\", \"New Mexico\": \"NM\", \"New York\": \"NY\", \"North Carolina\": \"NC\",\n",
    "    \"North Dakota\": \"ND\", \"Ohio\": \"OH\", \"Oklahoma\": \"OK\", \"Oregon\": \"OR\", \"Pennsylvania\": \"PA\",\n",
    "    \"Rhode Island\": \"RI\", \"South Carolina\": \"SC\", \"South Dakota\": \"SD\", \"Tennessee\": \"TN\",\n",
    "    \"Texas\": \"TX\", \"Utah\": \"UT\", \"Vermont\": \"VT\", \"Virginia\": \"VA\", \"Washington\": \"WA\",\n",
    "    \"West Virginia\": \"WV\", \"Wisconsin\": \"WI\", \"Wyoming\": \"WY\",\n",
    "    \"New York State\": \"NY\", \"Washington State\": \"WA\",\n",
    "}\n",
    "territoriesDistricts = {\n",
    "    # U.S. Territories and District\n",
    "    \"Washington, D.C.\": \"DC\",  # Federal District\n",
    "    \"Puerto Rico\": \"PR\",  # Territory\n",
    "    \"Guam\": \"GU\",  # Territory\n",
    "    \"American Samoa\": \"AS\",  # Territory\n",
    "    \"U.S. Virgin Islands\": \"VI\",  # Territory\n",
    "    \"Northern Mariana Islands\": \"MP\",  # Territory\n",
    "    \"Palau\": \"PW\",  # Freely associated state, but often included in territory lists\n",
    "    \"Federated States of Micronesia\": \"FM\",  # Freely associated state\n",
    "    \"Marshall Islands\": \"MH\"  # Freely associated state\n",
    "}\n"
   ]
  },
  {
   "cell_type": "code",
   "execution_count": 68,
   "id": "679649b5",
   "metadata": {},
   "outputs": [
    {
     "data": {
      "text/plain": [
       "'\\ndef ExtractCity(x):\\n    if \"United States\" in x:\\n        return \"Remote\"\\n    elif x in territoriesDistricts.keys() or x in territoriesDistricts.keys():\\n        return \"Zero\"\\n    elif \"remote\" in x.lower():\\n        return \"Remote\"\\n    elif len(x.split(\"-\"))==2:\\n        return x.split(\"-\")[0]\\n    elif len(x.split(\",\"))==1 or len(x.split(\"-\"))==1:\\n        if x.strip() in state_abbreviations.keys() or x in state_abbreviations.values():\\n            return \"Remote\"\\n    return x.split(\",\")[0]\\n'"
      ]
     },
     "execution_count": 68,
     "metadata": {},
     "output_type": "execute_result"
    }
   ],
   "source": [
    "'''\n",
    "def ExtractCity(x):\n",
    "    if \"United States\" in x:\n",
    "        return \"Remote\"\n",
    "    elif x in territoriesDistricts.keys() or x in territoriesDistricts.keys():\n",
    "        return \"Zero\"\n",
    "    elif \"remote\" in x.lower():\n",
    "        return \"Remote\"\n",
    "    elif len(x.split(\"-\"))==2:\n",
    "        return x.split(\"-\")[0]\n",
    "    elif len(x.split(\",\"))==1 or len(x.split(\"-\"))==1:\n",
    "        if x.strip() in state_abbreviations.keys() or x in state_abbreviations.values():\n",
    "            return \"Remote\"\n",
    "    return x.split(\",\")[0]\n",
    "'''"
   ]
  },
  {
   "cell_type": "code",
   "execution_count": 69,
   "id": "b5f4d4a6",
   "metadata": {},
   "outputs": [],
   "source": [
    "def ExtractState(x):\n",
    "    def remove_words(text, words_to_remove):\n",
    "        words = text.split()\n",
    "        filtered_words = [word for word in words if word.lower() not in words_to_remove]\n",
    "        filtered_text = \" \".join(filtered_words)\n",
    "        return filtered_text\n",
    "\n",
    "    def standardize_state(state):\n",
    "        if state in state_abbreviations.keys(): \n",
    "            return state_abbreviations[state] \n",
    "        elif state in state_abbreviations.values():\n",
    "            return state\n",
    "        else:\n",
    "            return \"Error\"\n",
    "        \n",
    "    x = remove_words(x,[\"state\",\"State\"])\n",
    "    \n",
    "    if len(x.split(\"-\"))==2:\n",
    "        t = x.split(\"-\")[1].strip()\n",
    "        if t in territoriesDistricts.keys():\n",
    "            return territoriesDistricts[t]\n",
    "        elif t in territoriesDistricts.values():\n",
    "            return t\n",
    "        return standardize_state(t.lstrip())\n",
    "    elif len(x.split(\",\"))==2:\n",
    "        t = x.split(\",\")[1].strip()\n",
    "        if t in territoriesDistricts.keys():\n",
    "            return territoriesDistricts[t]\n",
    "        elif t in territoriesDistricts.values():\n",
    "            return t\n",
    "        return standardize_state(t.lstrip()) \n",
    "    elif \"United States\" in x:\n",
    "        return \"Remote\"\n",
    "    elif \"remote\" in x.lower():\n",
    "        return \"Remote\"\n",
    "    elif len(x.split(\",\"))==1:\n",
    "        if x in state_abbreviations.keys() or x in state_abbreviations.values():\n",
    "            return standardize_state(x)\n",
    "    else:\n",
    "        return \"Error\""
   ]
  },
  {
   "cell_type": "code",
   "execution_count": 70,
   "id": "79bfd4ef",
   "metadata": {},
   "outputs": [],
   "source": [
    "dataset['State'] = dataset['Location'].apply(ExtractState)"
   ]
  },
  {
   "cell_type": "code",
   "execution_count": 71,
   "id": "2ca9a14b",
   "metadata": {},
   "outputs": [],
   "source": [
    "#dataset['City'] = dataset['Location'].apply(ExtractCity)"
   ]
  },
  {
   "cell_type": "code",
   "execution_count": 72,
   "id": "26c948f5",
   "metadata": {},
   "outputs": [
    {
     "data": {
      "text/html": [
       "<div>\n",
       "<style scoped>\n",
       "    .dataframe tbody tr th:only-of-type {\n",
       "        vertical-align: middle;\n",
       "    }\n",
       "\n",
       "    .dataframe tbody tr th {\n",
       "        vertical-align: top;\n",
       "    }\n",
       "\n",
       "    .dataframe thead th {\n",
       "        text-align: right;\n",
       "    }\n",
       "</style>\n",
       "<table border=\"1\" class=\"dataframe\">\n",
       "  <thead>\n",
       "    <tr style=\"text-align: right;\">\n",
       "      <th></th>\n",
       "      <th>Company</th>\n",
       "      <th>Company Score</th>\n",
       "      <th>Job Title</th>\n",
       "      <th>Location</th>\n",
       "      <th>Date</th>\n",
       "      <th>Salary</th>\n",
       "      <th>min</th>\n",
       "      <th>max</th>\n",
       "      <th>EstimatedBy</th>\n",
       "      <th>avgSalary</th>\n",
       "      <th>recency</th>\n",
       "      <th>JobRole</th>\n",
       "      <th>State</th>\n",
       "    </tr>\n",
       "  </thead>\n",
       "  <tbody>\n",
       "    <tr>\n",
       "      <th>13</th>\n",
       "      <td>Legrand AV</td>\n",
       "      <td>3.7</td>\n",
       "      <td>Software Engineer</td>\n",
       "      <td>Minneapolis-Saint Paul</td>\n",
       "      <td>2d</td>\n",
       "      <td>$70K - $135K (Employer est.)</td>\n",
       "      <td>70000</td>\n",
       "      <td>135000</td>\n",
       "      <td>Employer</td>\n",
       "      <td>102500.0</td>\n",
       "      <td>2.0</td>\n",
       "      <td>Mid-Level Engineer</td>\n",
       "      <td>Error</td>\n",
       "    </tr>\n",
       "  </tbody>\n",
       "</table>\n",
       "</div>"
      ],
      "text/plain": [
       "       Company  Company Score          Job Title                Location Date  \\\n",
       "13  Legrand AV            3.7  Software Engineer  Minneapolis-Saint Paul   2d   \n",
       "\n",
       "                          Salary    min     max EstimatedBy  avgSalary  \\\n",
       "13  $70K - $135K (Employer est.)  70000  135000    Employer   102500.0   \n",
       "\n",
       "    recency             JobRole  State  \n",
       "13      2.0  Mid-Level Engineer  Error  "
      ]
     },
     "execution_count": 72,
     "metadata": {},
     "output_type": "execute_result"
    }
   ],
   "source": [
    "dataset[dataset['State']==\"Error\"]"
   ]
  },
  {
   "cell_type": "code",
   "execution_count": 73,
   "id": "2c1258f9",
   "metadata": {},
   "outputs": [],
   "source": [
    "i = dataset[dataset['State']==\"Error\"].index"
   ]
  },
  {
   "cell_type": "code",
   "execution_count": 74,
   "id": "c67a586c",
   "metadata": {},
   "outputs": [],
   "source": [
    "dataset.loc[i,'State'] = \"MN\""
   ]
  },
  {
   "cell_type": "code",
   "execution_count": 75,
   "id": "b7b460dd",
   "metadata": {},
   "outputs": [
    {
     "data": {
      "text/plain": [
       "State\n",
       "CA        107\n",
       "Remote     90\n",
       "MD         72\n",
       "TX         44\n",
       "WA         43\n",
       "VA         39\n",
       "MA         39\n",
       "FL         29\n",
       "NY         28\n",
       "GA         25\n",
       "CO         23\n",
       "IL         23\n",
       "NJ         21\n",
       "MI         19\n",
       "PA         18\n",
       "AZ         12\n",
       "NC         11\n",
       "OH         11\n",
       "WI         11\n",
       "MN         10\n",
       "DC         10\n",
       "OR          7\n",
       "CT          7\n",
       "UT          7\n",
       "IN          5\n",
       "AL          5\n",
       "KS          4\n",
       "IA          4\n",
       "ID          4\n",
       "VT          3\n",
       "MS          3\n",
       "DE          3\n",
       "OK          3\n",
       "SC          3\n",
       "NE          2\n",
       "KY          2\n",
       "NH          2\n",
       "NM          2\n",
       "AR          2\n",
       "TN          2\n",
       "PR          2\n",
       "RI          2\n",
       "MO          1\n",
       "WV          1\n",
       "HI          1\n",
       "Name: count, dtype: int64"
      ]
     },
     "execution_count": 75,
     "metadata": {},
     "output_type": "execute_result"
    }
   ],
   "source": [
    "dataset['State'].value_counts()"
   ]
  },
  {
   "cell_type": "code",
   "execution_count": 76,
   "id": "ed2c1283",
   "metadata": {},
   "outputs": [],
   "source": [
    "columns =[\"Company Score\",\"avgSalary\",\"recency\",\"JobRole\",\"State\"]"
   ]
  },
  {
   "cell_type": "code",
   "execution_count": 77,
   "id": "f255e265",
   "metadata": {},
   "outputs": [],
   "source": [
    "dataset1 = dataset[columns].copy()"
   ]
  },
  {
   "cell_type": "code",
   "execution_count": 78,
   "id": "26cc0e86",
   "metadata": {},
   "outputs": [
    {
     "data": {
      "text/html": [
       "<div>\n",
       "<style scoped>\n",
       "    .dataframe tbody tr th:only-of-type {\n",
       "        vertical-align: middle;\n",
       "    }\n",
       "\n",
       "    .dataframe tbody tr th {\n",
       "        vertical-align: top;\n",
       "    }\n",
       "\n",
       "    .dataframe thead th {\n",
       "        text-align: right;\n",
       "    }\n",
       "</style>\n",
       "<table border=\"1\" class=\"dataframe\">\n",
       "  <thead>\n",
       "    <tr style=\"text-align: right;\">\n",
       "      <th></th>\n",
       "      <th>Company Score</th>\n",
       "      <th>avgSalary</th>\n",
       "      <th>recency</th>\n",
       "      <th>JobRole</th>\n",
       "      <th>State</th>\n",
       "    </tr>\n",
       "  </thead>\n",
       "  <tbody>\n",
       "    <tr>\n",
       "      <th>0</th>\n",
       "      <td>4.8</td>\n",
       "      <td>81000.0</td>\n",
       "      <td>8.0</td>\n",
       "      <td>Mid-Level Engineer</td>\n",
       "      <td>VA</td>\n",
       "    </tr>\n",
       "    <tr>\n",
       "      <th>1</th>\n",
       "      <td>4.3</td>\n",
       "      <td>82500.0</td>\n",
       "      <td>2.0</td>\n",
       "      <td>Mid-Level Engineer</td>\n",
       "      <td>Remote</td>\n",
       "    </tr>\n",
       "    <tr>\n",
       "      <th>2</th>\n",
       "      <td>3.9</td>\n",
       "      <td>106500.0</td>\n",
       "      <td>2.0</td>\n",
       "      <td>Mid-Level Engineer</td>\n",
       "      <td>NC</td>\n",
       "    </tr>\n",
       "    <tr>\n",
       "      <th>3</th>\n",
       "      <td>3.5</td>\n",
       "      <td>121000.0</td>\n",
       "      <td>2.0</td>\n",
       "      <td>Mid-Level Engineer</td>\n",
       "      <td>CA</td>\n",
       "    </tr>\n",
       "    <tr>\n",
       "      <th>4</th>\n",
       "      <td>3.1</td>\n",
       "      <td>96500.0</td>\n",
       "      <td>2.0</td>\n",
       "      <td>Mid-Level Engineer</td>\n",
       "      <td>TX</td>\n",
       "    </tr>\n",
       "    <tr>\n",
       "      <th>...</th>\n",
       "      <td>...</td>\n",
       "      <td>...</td>\n",
       "      <td>...</td>\n",
       "      <td>...</td>\n",
       "      <td>...</td>\n",
       "    </tr>\n",
       "    <tr>\n",
       "      <th>759</th>\n",
       "      <td>3.1</td>\n",
       "      <td>272500.0</td>\n",
       "      <td>30.0</td>\n",
       "      <td>Mid-Level Engineer</td>\n",
       "      <td>MD</td>\n",
       "    </tr>\n",
       "    <tr>\n",
       "      <th>760</th>\n",
       "      <td>3.9</td>\n",
       "      <td>222000.0</td>\n",
       "      <td>1.0</td>\n",
       "      <td>Mid-Level Engineer</td>\n",
       "      <td>CA</td>\n",
       "    </tr>\n",
       "    <tr>\n",
       "      <th>761</th>\n",
       "      <td>3.8</td>\n",
       "      <td>100000.0</td>\n",
       "      <td>5.0</td>\n",
       "      <td>Mid-Level Engineer</td>\n",
       "      <td>CA</td>\n",
       "    </tr>\n",
       "    <tr>\n",
       "      <th>762</th>\n",
       "      <td>3.3</td>\n",
       "      <td>88000.0</td>\n",
       "      <td>30.0</td>\n",
       "      <td>Mid-Level Engineer</td>\n",
       "      <td>TX</td>\n",
       "    </tr>\n",
       "    <tr>\n",
       "      <th>763</th>\n",
       "      <td>3.6</td>\n",
       "      <td>119000.0</td>\n",
       "      <td>30.0</td>\n",
       "      <td>Mid-Level Engineer</td>\n",
       "      <td>NJ</td>\n",
       "    </tr>\n",
       "  </tbody>\n",
       "</table>\n",
       "<p>764 rows × 5 columns</p>\n",
       "</div>"
      ],
      "text/plain": [
       "     Company Score  avgSalary  recency             JobRole   State\n",
       "0              4.8    81000.0      8.0  Mid-Level Engineer      VA\n",
       "1              4.3    82500.0      2.0  Mid-Level Engineer  Remote\n",
       "2              3.9   106500.0      2.0  Mid-Level Engineer      NC\n",
       "3              3.5   121000.0      2.0  Mid-Level Engineer      CA\n",
       "4              3.1    96500.0      2.0  Mid-Level Engineer      TX\n",
       "..             ...        ...      ...                 ...     ...\n",
       "759            3.1   272500.0     30.0  Mid-Level Engineer      MD\n",
       "760            3.9   222000.0      1.0  Mid-Level Engineer      CA\n",
       "761            3.8   100000.0      5.0  Mid-Level Engineer      CA\n",
       "762            3.3    88000.0     30.0  Mid-Level Engineer      TX\n",
       "763            3.6   119000.0     30.0  Mid-Level Engineer      NJ\n",
       "\n",
       "[764 rows x 5 columns]"
      ]
     },
     "execution_count": 78,
     "metadata": {},
     "output_type": "execute_result"
    }
   ],
   "source": [
    "dataset1"
   ]
  },
  {
   "cell_type": "code",
   "execution_count": 79,
   "id": "c445e661",
   "metadata": {},
   "outputs": [],
   "source": [
    "from sklearn import preprocessing"
   ]
  },
  {
   "cell_type": "code",
   "execution_count": 80,
   "id": "d4ccca4d",
   "metadata": {},
   "outputs": [],
   "source": [
    "encoder = preprocessing.LabelEncoder()"
   ]
  },
  {
   "cell_type": "code",
   "execution_count": 81,
   "id": "0c72ca53",
   "metadata": {},
   "outputs": [],
   "source": [
    "dataset1[\"JobRole\"] = encoder.fit_transform(dataset[\"JobRole\"])"
   ]
  },
  {
   "cell_type": "code",
   "execution_count": 82,
   "id": "66f5bbf9",
   "metadata": {},
   "outputs": [],
   "source": [
    "dataset1[\"State\"] = encoder.fit_transform(dataset[\"State\"])"
   ]
  },
  {
   "cell_type": "code",
   "execution_count": 83,
   "id": "dc14285f",
   "metadata": {},
   "outputs": [
    {
     "data": {
      "text/html": [
       "<div>\n",
       "<style scoped>\n",
       "    .dataframe tbody tr th:only-of-type {\n",
       "        vertical-align: middle;\n",
       "    }\n",
       "\n",
       "    .dataframe tbody tr th {\n",
       "        vertical-align: top;\n",
       "    }\n",
       "\n",
       "    .dataframe thead th {\n",
       "        text-align: right;\n",
       "    }\n",
       "</style>\n",
       "<table border=\"1\" class=\"dataframe\">\n",
       "  <thead>\n",
       "    <tr style=\"text-align: right;\">\n",
       "      <th></th>\n",
       "      <th>Company Score</th>\n",
       "      <th>avgSalary</th>\n",
       "      <th>recency</th>\n",
       "      <th>JobRole</th>\n",
       "      <th>State</th>\n",
       "    </tr>\n",
       "  </thead>\n",
       "  <tbody>\n",
       "    <tr>\n",
       "      <th>Company Score</th>\n",
       "      <td>1.000000</td>\n",
       "      <td>0.047095</td>\n",
       "      <td>0.069969</td>\n",
       "      <td>-0.051116</td>\n",
       "      <td>0.062558</td>\n",
       "    </tr>\n",
       "    <tr>\n",
       "      <th>avgSalary</th>\n",
       "      <td>0.047095</td>\n",
       "      <td>1.000000</td>\n",
       "      <td>0.004451</td>\n",
       "      <td>-0.018379</td>\n",
       "      <td>-0.019200</td>\n",
       "    </tr>\n",
       "    <tr>\n",
       "      <th>recency</th>\n",
       "      <td>0.069969</td>\n",
       "      <td>0.004451</td>\n",
       "      <td>1.000000</td>\n",
       "      <td>-0.054564</td>\n",
       "      <td>-0.001947</td>\n",
       "    </tr>\n",
       "    <tr>\n",
       "      <th>JobRole</th>\n",
       "      <td>-0.051116</td>\n",
       "      <td>-0.018379</td>\n",
       "      <td>-0.054564</td>\n",
       "      <td>1.000000</td>\n",
       "      <td>0.017285</td>\n",
       "    </tr>\n",
       "    <tr>\n",
       "      <th>State</th>\n",
       "      <td>0.062558</td>\n",
       "      <td>-0.019200</td>\n",
       "      <td>-0.001947</td>\n",
       "      <td>0.017285</td>\n",
       "      <td>1.000000</td>\n",
       "    </tr>\n",
       "  </tbody>\n",
       "</table>\n",
       "</div>"
      ],
      "text/plain": [
       "               Company Score  avgSalary   recency   JobRole     State\n",
       "Company Score       1.000000   0.047095  0.069969 -0.051116  0.062558\n",
       "avgSalary           0.047095   1.000000  0.004451 -0.018379 -0.019200\n",
       "recency             0.069969   0.004451  1.000000 -0.054564 -0.001947\n",
       "JobRole            -0.051116  -0.018379 -0.054564  1.000000  0.017285\n",
       "State               0.062558  -0.019200 -0.001947  0.017285  1.000000"
      ]
     },
     "execution_count": 83,
     "metadata": {},
     "output_type": "execute_result"
    }
   ],
   "source": [
    "dataset1.corr()"
   ]
  },
  {
   "cell_type": "code",
   "execution_count": 84,
   "id": "09842cda",
   "metadata": {},
   "outputs": [],
   "source": [
    "X = dataset1.iloc[:,[True,False,True,True,True]].values"
   ]
  },
  {
   "cell_type": "code",
   "execution_count": 85,
   "id": "be914553",
   "metadata": {},
   "outputs": [],
   "source": [
    "y = dataset1.iloc[:,[1]].values"
   ]
  },
  {
   "cell_type": "code",
   "execution_count": 86,
   "id": "f399ba43",
   "metadata": {},
   "outputs": [
    {
     "data": {
      "text/plain": [
       "Company Score    0\n",
       "avgSalary        0\n",
       "recency          0\n",
       "JobRole          0\n",
       "State            0\n",
       "dtype: int64"
      ]
     },
     "execution_count": 86,
     "metadata": {},
     "output_type": "execute_result"
    }
   ],
   "source": [
    "dataset1.isna().sum()"
   ]
  },
  {
   "cell_type": "code",
   "execution_count": 87,
   "id": "27c82f6b",
   "metadata": {},
   "outputs": [],
   "source": [
    "from sklearn.preprocessing import StandardScaler"
   ]
  },
  {
   "cell_type": "code",
   "execution_count": 88,
   "id": "d79df3c9",
   "metadata": {},
   "outputs": [],
   "source": [
    "scale = StandardScaler()"
   ]
  },
  {
   "cell_type": "code",
   "execution_count": 89,
   "id": "deaf6654",
   "metadata": {},
   "outputs": [],
   "source": [
    "X = scale.fit_transform(X)"
   ]
  },
  {
   "cell_type": "code",
   "execution_count": 90,
   "id": "5ac3a02f",
   "metadata": {},
   "outputs": [],
   "source": [
    "from sklearn.model_selection import train_test_split"
   ]
  },
  {
   "cell_type": "code",
   "execution_count": 91,
   "id": "98bd9779",
   "metadata": {},
   "outputs": [],
   "source": [
    "X_train,X_test,y_train,y_test = train_test_split(X,y)"
   ]
  },
  {
   "cell_type": "code",
   "execution_count": 92,
   "id": "e365f506",
   "metadata": {},
   "outputs": [],
   "source": [
    "from sklearn.linear_model import LinearRegression"
   ]
  },
  {
   "cell_type": "code",
   "execution_count": 93,
   "id": "2474f657",
   "metadata": {},
   "outputs": [],
   "source": [
    "Reg = LinearRegression()"
   ]
  },
  {
   "cell_type": "code",
   "execution_count": 94,
   "id": "24a39f7d",
   "metadata": {},
   "outputs": [
    {
     "data": {
      "text/html": [
       "<style>#sk-container-id-1 {color: black;}#sk-container-id-1 pre{padding: 0;}#sk-container-id-1 div.sk-toggleable {background-color: white;}#sk-container-id-1 label.sk-toggleable__label {cursor: pointer;display: block;width: 100%;margin-bottom: 0;padding: 0.3em;box-sizing: border-box;text-align: center;}#sk-container-id-1 label.sk-toggleable__label-arrow:before {content: \"▸\";float: left;margin-right: 0.25em;color: #696969;}#sk-container-id-1 label.sk-toggleable__label-arrow:hover:before {color: black;}#sk-container-id-1 div.sk-estimator:hover label.sk-toggleable__label-arrow:before {color: black;}#sk-container-id-1 div.sk-toggleable__content {max-height: 0;max-width: 0;overflow: hidden;text-align: left;background-color: #f0f8ff;}#sk-container-id-1 div.sk-toggleable__content pre {margin: 0.2em;color: black;border-radius: 0.25em;background-color: #f0f8ff;}#sk-container-id-1 input.sk-toggleable__control:checked~div.sk-toggleable__content {max-height: 200px;max-width: 100%;overflow: auto;}#sk-container-id-1 input.sk-toggleable__control:checked~label.sk-toggleable__label-arrow:before {content: \"▾\";}#sk-container-id-1 div.sk-estimator input.sk-toggleable__control:checked~label.sk-toggleable__label {background-color: #d4ebff;}#sk-container-id-1 div.sk-label input.sk-toggleable__control:checked~label.sk-toggleable__label {background-color: #d4ebff;}#sk-container-id-1 input.sk-hidden--visually {border: 0;clip: rect(1px 1px 1px 1px);clip: rect(1px, 1px, 1px, 1px);height: 1px;margin: -1px;overflow: hidden;padding: 0;position: absolute;width: 1px;}#sk-container-id-1 div.sk-estimator {font-family: monospace;background-color: #f0f8ff;border: 1px dotted black;border-radius: 0.25em;box-sizing: border-box;margin-bottom: 0.5em;}#sk-container-id-1 div.sk-estimator:hover {background-color: #d4ebff;}#sk-container-id-1 div.sk-parallel-item::after {content: \"\";width: 100%;border-bottom: 1px solid gray;flex-grow: 1;}#sk-container-id-1 div.sk-label:hover label.sk-toggleable__label {background-color: #d4ebff;}#sk-container-id-1 div.sk-serial::before {content: \"\";position: absolute;border-left: 1px solid gray;box-sizing: border-box;top: 0;bottom: 0;left: 50%;z-index: 0;}#sk-container-id-1 div.sk-serial {display: flex;flex-direction: column;align-items: center;background-color: white;padding-right: 0.2em;padding-left: 0.2em;position: relative;}#sk-container-id-1 div.sk-item {position: relative;z-index: 1;}#sk-container-id-1 div.sk-parallel {display: flex;align-items: stretch;justify-content: center;background-color: white;position: relative;}#sk-container-id-1 div.sk-item::before, #sk-container-id-1 div.sk-parallel-item::before {content: \"\";position: absolute;border-left: 1px solid gray;box-sizing: border-box;top: 0;bottom: 0;left: 50%;z-index: -1;}#sk-container-id-1 div.sk-parallel-item {display: flex;flex-direction: column;z-index: 1;position: relative;background-color: white;}#sk-container-id-1 div.sk-parallel-item:first-child::after {align-self: flex-end;width: 50%;}#sk-container-id-1 div.sk-parallel-item:last-child::after {align-self: flex-start;width: 50%;}#sk-container-id-1 div.sk-parallel-item:only-child::after {width: 0;}#sk-container-id-1 div.sk-dashed-wrapped {border: 1px dashed gray;margin: 0 0.4em 0.5em 0.4em;box-sizing: border-box;padding-bottom: 0.4em;background-color: white;}#sk-container-id-1 div.sk-label label {font-family: monospace;font-weight: bold;display: inline-block;line-height: 1.2em;}#sk-container-id-1 div.sk-label-container {text-align: center;}#sk-container-id-1 div.sk-container {/* jupyter's `normalize.less` sets `[hidden] { display: none; }` but bootstrap.min.css set `[hidden] { display: none !important; }` so we also need the `!important` here to be able to override the default hidden behavior on the sphinx rendered scikit-learn.org. See: https://github.com/scikit-learn/scikit-learn/issues/21755 */display: inline-block !important;position: relative;}#sk-container-id-1 div.sk-text-repr-fallback {display: none;}</style><div id=\"sk-container-id-1\" class=\"sk-top-container\"><div class=\"sk-text-repr-fallback\"><pre>LinearRegression()</pre><b>In a Jupyter environment, please rerun this cell to show the HTML representation or trust the notebook. <br />On GitHub, the HTML representation is unable to render, please try loading this page with nbviewer.org.</b></div><div class=\"sk-container\" hidden><div class=\"sk-item\"><div class=\"sk-estimator sk-toggleable\"><input class=\"sk-toggleable__control sk-hidden--visually\" id=\"sk-estimator-id-1\" type=\"checkbox\" checked><label for=\"sk-estimator-id-1\" class=\"sk-toggleable__label sk-toggleable__label-arrow\">LinearRegression</label><div class=\"sk-toggleable__content\"><pre>LinearRegression()</pre></div></div></div></div></div>"
      ],
      "text/plain": [
       "LinearRegression()"
      ]
     },
     "execution_count": 94,
     "metadata": {},
     "output_type": "execute_result"
    }
   ],
   "source": [
    "Reg.fit(X_train,y_train)"
   ]
  },
  {
   "cell_type": "code",
   "execution_count": 95,
   "id": "2f5daaf0",
   "metadata": {},
   "outputs": [],
   "source": [
    "y_pred = Reg.predict(X_test)"
   ]
  },
  {
   "cell_type": "code",
   "execution_count": 96,
   "id": "975cb8be",
   "metadata": {},
   "outputs": [
    {
     "data": {
      "text/plain": [
       "array([[128638.10007828],\n",
       "       [128080.45699294],\n",
       "       [129065.77751838],\n",
       "       [127511.64550686],\n",
       "       [128453.87272721],\n",
       "       [129755.07096576],\n",
       "       [130462.62229726],\n",
       "       [129409.17435611],\n",
       "       [128422.76172556],\n",
       "       [127039.67708519],\n",
       "       [128588.92872974],\n",
       "       [129332.37831158],\n",
       "       [128884.65385161],\n",
       "       [129330.78671305],\n",
       "       [124869.33999437],\n",
       "       [128242.53262667],\n",
       "       [128862.7121246 ],\n",
       "       [125308.99981768],\n",
       "       [128855.72706018],\n",
       "       [130650.84113764],\n",
       "       [125714.73660341],\n",
       "       [125093.05747281],\n",
       "       [129833.06353436],\n",
       "       [129213.68663845],\n",
       "       [124849.09543726],\n",
       "       [126965.26386076],\n",
       "       [128898.01891566],\n",
       "       [130645.14002533],\n",
       "       [125881.58818515],\n",
       "       [129784.99674403],\n",
       "       [129707.70120608],\n",
       "       [127190.97939265],\n",
       "       [126013.44853752],\n",
       "       [130720.9483837 ],\n",
       "       [130168.59319288],\n",
       "       [127615.26364536],\n",
       "       [130440.08795856],\n",
       "       [128102.39871994],\n",
       "       [129532.65558276],\n",
       "       [128334.89039857],\n",
       "       [126953.5959666 ],\n",
       "       [128191.75722651],\n",
       "       [127770.76174223],\n",
       "       [127508.84377875],\n",
       "       [126823.64170182],\n",
       "       [128659.63427773],\n",
       "       [124168.57619006],\n",
       "       [132083.59554732],\n",
       "       [129097.59800377],\n",
       "       [127344.5714817 ],\n",
       "       [125059.44785165],\n",
       "       [127811.35642781],\n",
       "       [129370.47437766],\n",
       "       [130218.76468067],\n",
       "       [128005.6476214 ],\n",
       "       [126783.74404689],\n",
       "       [128984.58814721],\n",
       "       [128870.5917569 ],\n",
       "       [125500.28712834],\n",
       "       [131187.62891085],\n",
       "       [130229.53800694],\n",
       "       [127708.22532964],\n",
       "       [131093.27201286],\n",
       "       [125772.68107949],\n",
       "       [127494.78168405],\n",
       "       [133074.11200142],\n",
       "       [128401.61014747],\n",
       "       [126589.13951665],\n",
       "       [129850.42685059],\n",
       "       [130523.46153995],\n",
       "       [127103.80509631],\n",
       "       [131754.44127084],\n",
       "       [128172.51165624],\n",
       "       [128212.21177394],\n",
       "       [128669.71057335],\n",
       "       [130577.22375236],\n",
       "       [129434.61484187],\n",
       "       [126811.17120565],\n",
       "       [132147.6145219 ],\n",
       "       [131782.97867803],\n",
       "       [128611.46306844],\n",
       "       [130617.21906338],\n",
       "       [129711.89023262],\n",
       "       [130637.3659644 ],\n",
       "       [131346.11951019],\n",
       "       [126672.12940404],\n",
       "       [127229.37741491],\n",
       "       [127290.32222897],\n",
       "       [127298.70135469],\n",
       "       [130544.11362461],\n",
       "       [129369.19042554],\n",
       "       [127730.36459388],\n",
       "       [132392.68111565],\n",
       "       [127732.36371996],\n",
       "       [128427.34013633],\n",
       "       [128198.84670988],\n",
       "       [130751.47246389],\n",
       "       [128035.96847413],\n",
       "       [128916.46188391],\n",
       "       [129737.91763986],\n",
       "       [128899.30855801],\n",
       "       [130828.46035542],\n",
       "       [128330.49707193],\n",
       "       [127779.14086795],\n",
       "       [128797.97904869],\n",
       "       [130625.69691783],\n",
       "       [125977.15298767],\n",
       "       [132533.62224198],\n",
       "       [130534.04301922],\n",
       "       [129710.09540663],\n",
       "       [127318.9459118 ],\n",
       "       [130230.63011205],\n",
       "       [125876.52166141],\n",
       "       [129982.07721264],\n",
       "       [125244.25536131],\n",
       "       [127860.22582016],\n",
       "       [130505.71560235],\n",
       "       [128968.72446365],\n",
       "       [128765.65906987],\n",
       "       [128383.86420987],\n",
       "       [126906.81881862],\n",
       "       [129688.15367963],\n",
       "       [126353.85856301],\n",
       "       [130025.86754837],\n",
       "       [128480.50973704],\n",
       "       [122863.19354256],\n",
       "       [127461.67155631],\n",
       "       [129401.00522071],\n",
       "       [126568.714493  ],\n",
       "       [128855.62264122],\n",
       "       [129236.12785887],\n",
       "       [128411.48890586],\n",
       "       [128514.81638886],\n",
       "       [126039.28294534],\n",
       "       [132195.69376532],\n",
       "       [130008.71422247],\n",
       "       [132045.19752506],\n",
       "       [130945.56043002],\n",
       "       [130753.86097421],\n",
       "       [129473.51235756],\n",
       "       [129126.31480488],\n",
       "       [128574.06403302],\n",
       "       [129999.53249473],\n",
       "       [129013.21298245],\n",
       "       [128897.41385087],\n",
       "       [128864.50126036],\n",
       "       [129764.94972415],\n",
       "       [129711.38504898],\n",
       "       [132885.09055902],\n",
       "       [136636.99927321],\n",
       "       [130224.05257519],\n",
       "       [127008.65920181],\n",
       "       [128156.64797268],\n",
       "       [127904.91072378],\n",
       "       [129729.44539586],\n",
       "       [129422.94694772],\n",
       "       [129280.51080631],\n",
       "       [127927.45075271],\n",
       "       [129386.14052399],\n",
       "       [124537.50663184],\n",
       "       [127246.43877496],\n",
       "       [128257.88436372],\n",
       "       [131853.19611306],\n",
       "       [129321.40744808],\n",
       "       [129774.72291117],\n",
       "       [130251.28219672],\n",
       "       [127151.58238355],\n",
       "       [127860.72531358],\n",
       "       [128273.74804728],\n",
       "       [128742.52081879],\n",
       "       [129395.51978896],\n",
       "       [129825.28947342],\n",
       "       [124931.47564227],\n",
       "       [128359.52151945],\n",
       "       [130497.83597005],\n",
       "       [128253.39907122],\n",
       "       [129886.12871611],\n",
       "       [127601.70104407],\n",
       "       [121215.50723508],\n",
       "       [134135.83349692],\n",
       "       [129124.8276253 ],\n",
       "       [130302.04514378],\n",
       "       [135538.66320098],\n",
       "       [130366.67380074],\n",
       "       [131475.47440042],\n",
       "       [126782.54752282],\n",
       "       [127441.62453643],\n",
       "       [129584.3255508 ],\n",
       "       [130035.64188781],\n",
       "       [129495.45408456],\n",
       "       [123862.07774192]])"
      ]
     },
     "execution_count": 96,
     "metadata": {},
     "output_type": "execute_result"
    }
   ],
   "source": [
    "y_pred"
   ]
  },
  {
   "cell_type": "code",
   "execution_count": 99,
   "id": "60af4ce3",
   "metadata": {},
   "outputs": [],
   "source": [
    "from sklearn.metrics import r2_score,mean_absolute_error,mean_squared_error"
   ]
  },
  {
   "cell_type": "code",
   "execution_count": 100,
   "id": "03be5ec4",
   "metadata": {},
   "outputs": [],
   "source": [
    "r2 = r2_score(y_test,y_pred)"
   ]
  },
  {
   "cell_type": "code",
   "execution_count": 101,
   "id": "397dfcad",
   "metadata": {},
   "outputs": [
    {
     "data": {
      "text/plain": [
       "0.0020473614143088348"
      ]
     },
     "execution_count": 101,
     "metadata": {},
     "output_type": "execute_result"
    }
   ],
   "source": [
    "r2"
   ]
  },
  {
   "cell_type": "code",
   "execution_count": 102,
   "id": "2b902d2e",
   "metadata": {},
   "outputs": [],
   "source": [
    "mae = mean_absolute_error(y_test,y_pred)"
   ]
  },
  {
   "cell_type": "code",
   "execution_count": 103,
   "id": "f4c94e60",
   "metadata": {},
   "outputs": [
    {
     "data": {
      "text/plain": [
       "35171.43825886415"
      ]
     },
     "execution_count": 103,
     "metadata": {},
     "output_type": "execute_result"
    }
   ],
   "source": [
    "mae"
   ]
  },
  {
   "cell_type": "code",
   "execution_count": 104,
   "id": "a08e1ae5",
   "metadata": {},
   "outputs": [],
   "source": [
    "mse = mean_squared_error(y_test,y_pred)"
   ]
  },
  {
   "cell_type": "code",
   "execution_count": 120,
   "id": "eb29ab3e",
   "metadata": {},
   "outputs": [
    {
     "data": {
      "text/plain": [
       "2140043534.2691867"
      ]
     },
     "execution_count": 120,
     "metadata": {},
     "output_type": "execute_result"
    }
   ],
   "source": [
    "mse"
   ]
  },
  {
   "cell_type": "code",
   "execution_count": 108,
   "id": "8971bbc3",
   "metadata": {},
   "outputs": [],
   "source": []
  },
  {
   "cell_type": "code",
   "execution_count": null,
   "id": "c465e8c4",
   "metadata": {},
   "outputs": [],
   "source": []
  },
  {
   "cell_type": "code",
   "execution_count": null,
   "id": "bf2f1153",
   "metadata": {},
   "outputs": [],
   "source": []
  },
  {
   "cell_type": "code",
   "execution_count": null,
   "id": "1bcae6ad",
   "metadata": {},
   "outputs": [],
   "source": []
  },
  {
   "cell_type": "code",
   "execution_count": null,
   "id": "45c7182f",
   "metadata": {},
   "outputs": [],
   "source": []
  },
  {
   "cell_type": "code",
   "execution_count": null,
   "id": "6d01cbdc",
   "metadata": {},
   "outputs": [],
   "source": []
  },
  {
   "cell_type": "code",
   "execution_count": null,
   "id": "6f06b48b",
   "metadata": {},
   "outputs": [],
   "source": []
  },
  {
   "cell_type": "code",
   "execution_count": null,
   "id": "fdbc012c",
   "metadata": {},
   "outputs": [],
   "source": []
  },
  {
   "cell_type": "code",
   "execution_count": null,
   "id": "1d92036a",
   "metadata": {},
   "outputs": [],
   "source": []
  },
  {
   "cell_type": "code",
   "execution_count": null,
   "id": "f1ef2fdb",
   "metadata": {},
   "outputs": [],
   "source": []
  },
  {
   "cell_type": "code",
   "execution_count": null,
   "id": "0a12751d",
   "metadata": {},
   "outputs": [],
   "source": []
  },
  {
   "cell_type": "code",
   "execution_count": null,
   "id": "8d1adc71",
   "metadata": {},
   "outputs": [],
   "source": []
  }
 ],
 "metadata": {
  "kernelspec": {
   "display_name": "Python 3 (ipykernel)",
   "language": "python",
   "name": "python3"
  },
  "language_info": {
   "codemirror_mode": {
    "name": "ipython",
    "version": 3
   },
   "file_extension": ".py",
   "mimetype": "text/x-python",
   "name": "python",
   "nbconvert_exporter": "python",
   "pygments_lexer": "ipython3",
   "version": "3.9.19"
  }
 },
 "nbformat": 4,
 "nbformat_minor": 5
}
